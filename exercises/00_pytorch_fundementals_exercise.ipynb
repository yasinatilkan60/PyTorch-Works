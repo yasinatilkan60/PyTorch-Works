{
 "cells": [
  {
   "cell_type": "markdown",
   "id": "ee92a07b",
   "metadata": {},
   "source": [
    "https://www.learnpytorch.io/00_pytorch_fundamentals/#exercises adresindeki alıştırmanın gerçekleştirilmesidir."
   ]
  },
  {
   "cell_type": "markdown",
   "id": "6d5e359c",
   "metadata": {},
   "source": [
    "1. Dokümantasyon okuması herhangi bir şeyi öğrenmede önemlidir. Tekrar ve ek bilgi almak için aşağıdaki iki kaynak okunmalıdır.\n",
    "\n",
    "- torch.Tensor: https://pytorch.org/docs/stable/tensors.html#torch-tensor\n",
    "- torch.cuda: https://pytorch.org/docs/master/notes/cuda.html#cuda-semantics   "
   ]
  },
  {
   "cell_type": "markdown",
   "id": "cbff966a",
   "metadata": {},
   "source": [
    "2. (7, 7) şeklinde ranstgele bir tensör oluşturulmalıdır."
   ]
  },
  {
   "cell_type": "code",
   "execution_count": null,
   "id": "f06b2aae",
   "metadata": {},
   "outputs": [],
   "source": [
    "import torch\n",
    "tensor_X = torch.rand(7, 7)\n",
    "tensor_X, tensor_X.shape"
   ]
  },
  {
   "cell_type": "markdown",
   "id": "75c77930",
   "metadata": {},
   "source": [
    "3. (1, 7) şeklinde başka bir rastgele tensör ile ilk tensörü çarparak matris çarpımı yapmalıyız. Burada dikkat edilmesi gereken şekil hatasını engellemek için oluşturulan bu ikinci tensörün transpozunun alınması gerektiğidir."
   ]
  },
  {
   "cell_type": "code",
   "execution_count": null,
   "id": "655ad2c6",
   "metadata": {},
   "outputs": [],
   "source": [
    "tensor_Y = torch.rand(1, 7)\n",
    "tensor_Y, tensor_Y.shape"
   ]
  },
  {
   "cell_type": "code",
   "execution_count": null,
   "id": "1ea7d12c",
   "metadata": {},
   "outputs": [],
   "source": [
    "tensor_Z = torch.matmul(tensor_X, tensor_Y.T)\n",
    "tensor_Z, tensor_Z.shape"
   ]
  },
  {
   "cell_type": "markdown",
   "id": "db534519",
   "metadata": {},
   "source": [
    "4. Random seed 0 uygulayarak ikinci ve üçüncü adımları tekrar edelim."
   ]
  },
  {
   "cell_type": "code",
   "execution_count": null,
   "id": "b8ea4fcb",
   "metadata": {},
   "outputs": [],
   "source": [
    "RANDOM_SEED = 0\n",
    "torch.manual_seed(RANDOM_SEED)\n",
    "tensor_X = torch.rand(size = (7, 7))\n",
    "tensor_X, tensor_X.shape"
   ]
  },
  {
   "cell_type": "code",
   "execution_count": null,
   "id": "54f6d5de",
   "metadata": {},
   "outputs": [],
   "source": [
    "torch.manual_seed(RANDOM_SEED)\n",
    "tensor_Y = torch.rand(size = (1, 7))\n",
    "tensor_Y, tensor_Y.shape"
   ]
  },
  {
   "cell_type": "code",
   "execution_count": null,
   "id": "b580c3b5",
   "metadata": {},
   "outputs": [],
   "source": [
    "tensor_Z = torch.matmul(X_TENSOR, Y_TENSOR.T)\n",
    "tensor_Z, tensor_Z.shape"
   ]
  },
  {
   "cell_type": "markdown",
   "id": "a3d40fe9",
   "metadata": {},
   "source": [
    "5. Çalışmada torch.manual_seed() kullanımını gördük. Bu alıştırmada GPU için eşdeğerine bakacağız. Bunun için en başta bahsedilen cuda dokümantasyonuna bakacağız. Random seed GPU üzerinde 1234 olarak aşağıda ayarlanmıştır.\n",
    "\n",
    "Adres: https://pytorch.org/docs/master/generated/torch.cuda.manual_seed.html#torch.cuda.manual_seed"
   ]
  },
  {
   "cell_type": "code",
   "execution_count": null,
   "id": "064ead25",
   "metadata": {},
   "outputs": [],
   "source": [
    "torch.cuda.manual_seed(1234)"
   ]
  },
  {
   "cell_type": "markdown",
   "id": "9507c857",
   "metadata": {},
   "source": [
    "6. 2 adet (2, 3) şeklinde rastgele tensörleri random seed 1234 kullanarak oluşturalım. Daha sonra bu tensörleri GPU üzerine gönderelim."
   ]
  },
  {
   "cell_type": "code",
   "execution_count": null,
   "id": "fceb79f3",
   "metadata": {},
   "outputs": [],
   "source": [
    "RANDOM_SEED = 1234\n",
    "torch.manual_seed(RANDOM_SEED)\n",
    "random_tensor_X = torch.rand(size = (2, 3))\n",
    "random_tensor_X, random_tensor_X.shape"
   ]
  },
  {
   "cell_type": "code",
   "execution_count": null,
   "id": "70f379ce",
   "metadata": {},
   "outputs": [],
   "source": [
    "torch.manual_seed(RANDOM_SEED)\n",
    "random_tensor_Y = torch.rand(size = (2, 3))\n",
    "random_tensor_Y, random_tensor_Y.shape"
   ]
  },
  {
   "cell_type": "code",
   "execution_count": null,
   "id": "bf081406",
   "metadata": {},
   "outputs": [],
   "source": [
    "# Agnostik donanım kodunun ayarlanması.\n",
    "device = \"cuda\" if torch.cuda.is_available() else \"cpu\"\n",
    "device"
   ]
  },
  {
   "cell_type": "code",
   "execution_count": null,
   "id": "b25e296e",
   "metadata": {},
   "outputs": [],
   "source": [
    "random_tensor_X = random_tensor_X.to(device) # Tensörler GPU üzerine taşınır. "
   ]
  },
  {
   "cell_type": "code",
   "execution_count": null,
   "id": "50178e02",
   "metadata": {},
   "outputs": [],
   "source": [
    "random_tensor_Y = random_tensor_Y.to(device)"
   ]
  },
  {
   "cell_type": "markdown",
   "id": "153e6691",
   "metadata": {},
   "source": [
    "7. Oluşturulan bu tensörlere çarpma işlemini uygulayalım."
   ]
  },
  {
   "cell_type": "code",
   "execution_count": null,
   "id": "843dedd7",
   "metadata": {},
   "outputs": [],
   "source": [
    "mat_mul_X_and_Y = torch.matmul(random_tensor_X, random_tensor_Y.T)\n",
    "print(f\"X tensör * Y tensör = {mat_mul_X_and_Y}, Şekli: {mat_mul_X_and_Y.shape}\")"
   ]
  },
  {
   "cell_type": "markdown",
   "id": "418226de",
   "metadata": {},
   "source": [
    "8. Bir önceki adımda bulduğumuz sonucun minimum ve maksimum değerini bulalım."
   ]
  },
  {
   "cell_type": "code",
   "execution_count": null,
   "id": "28ed5152",
   "metadata": {},
   "outputs": [],
   "source": [
    "torch.min(mat_mul_X_and_Y), mat_mul_X_and_Y.min() # İki farklı yol mümkün."
   ]
  },
  {
   "cell_type": "code",
   "execution_count": null,
   "id": "8e3cd13c",
   "metadata": {},
   "outputs": [],
   "source": [
    "torch.max(mat_mul_X_and_Y), mat_mul_X_and_Y.max() # İki farklı yol mümkün."
   ]
  },
  {
   "cell_type": "markdown",
   "id": "bae90bd9",
   "metadata": {},
   "source": [
    "9. Yedinci adımda bulduğumuz sonucun minimum ve maksimum indeks değerlerini bulalım."
   ]
  },
  {
   "cell_type": "code",
   "execution_count": null,
   "id": "c1c1603c",
   "metadata": {},
   "outputs": [],
   "source": [
    "mat_mul_X_and_Y.argmax(), torch.argmax(mat_mul_X_and_Y)"
   ]
  },
  {
   "cell_type": "code",
   "execution_count": null,
   "id": "6e618f17",
   "metadata": {},
   "outputs": [],
   "source": [
    "mat_mul_X_and_Y.argmin(), torch.argmin(mat_mul_X_and_Y)"
   ]
  },
  {
   "cell_type": "markdown",
   "id": "b96f7ade",
   "metadata": {},
   "source": [
    "10. (1, 1, 1, 10) şeklinde rastgele bir tensör oluşturalım. Daha sonra soldaki 1 boyutları atarak (10) şeklinde yeni bir tensör daha oluşturalım. Tensörü oluştururken __seed__ 7 olarak ayarlanmalıdır. Daha sonra iki tensör ve şekli yazdırılmalıdır."
   ]
  },
  {
   "cell_type": "code",
   "execution_count": null,
   "id": "b999cf67",
   "metadata": {},
   "outputs": [],
   "source": [
    "import torch\n",
    "torch.manual_seed(7)\n",
    "random_tensor = torch.rand(size = (1, 1, 1, 10))\n",
    "random_tensor, random_tensor.shape "
   ]
  },
  {
   "cell_type": "code",
   "execution_count": null,
   "id": "73931bd0",
   "metadata": {},
   "outputs": [],
   "source": [
    "random_tensor_squeezed = random_tensor.squeeze() "
   ]
  },
  {
   "cell_type": "code",
   "execution_count": null,
   "id": "72e72ba2",
   "metadata": {},
   "outputs": [],
   "source": [
    "random_tensor_squeezed, random_tensor_squeezed.shape"
   ]
  }
 ],
 "metadata": {
  "kernelspec": {
   "display_name": "Python 3 (ipykernel)",
   "language": "python",
   "name": "python3"
  },
  "language_info": {
   "codemirror_mode": {
    "name": "ipython",
    "version": 3
   },
   "file_extension": ".py",
   "mimetype": "text/x-python",
   "name": "python",
   "nbconvert_exporter": "python",
   "pygments_lexer": "ipython3",
   "version": "3.9.13"
  }
 },
 "nbformat": 4,
 "nbformat_minor": 5
}
