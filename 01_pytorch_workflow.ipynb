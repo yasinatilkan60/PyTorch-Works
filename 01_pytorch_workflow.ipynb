{
 "cells": [
  {
   "cell_type": "markdown",
   "id": "29211f6d",
   "metadata": {},
   "source": [
    "__PyTorch for Deep Learning in 2023: Zero To Mastery (Udemy) kaynağından çalışırken alınan notlardır.__"
   ]
  },
  {
   "cell_type": "markdown",
   "id": "416490ee",
   "metadata": {},
   "source": [
    "## PyTorch Çalışma Akışı"
   ]
  },
  {
   "cell_type": "markdown",
   "id": "b09c55fc",
   "metadata": {},
   "source": [
    "__Faydalı Kaynaklar__\n",
    "\n",
    "- Eğitmene ait orijinal notebook: https://github.com/mrdbourke/pytorch-deep-learning/blob/main/01_pytorch_workflow.ipynb\n",
    "- Kitap versiyonu: https://www.learnpytorch.io/01_pytorch_workflow/\n",
    "- Soru sormak için: https://github.com/mrdbourke/pytorch-deep-learning/discussions"
   ]
  },
  {
   "cell_type": "markdown",
   "id": "42f4538a",
   "metadata": {},
   "source": [
    "Burada değişken isimleri İngilizce tanımlanacaktır. Metinsel içerikler Türkçe ya da İngilizce olarak yazılabilir."
   ]
  },
  {
   "cell_type": "code",
   "execution_count": null,
   "id": "ca2e01cc",
   "metadata": {},
   "outputs": [],
   "source": [
    "# Bir sözlük (dictionary) tanımı.\n",
    "what_were_covering = {1: \"veriyi hazırlama / prepare ve yükleme / load.\",\n",
    "                    2: \"Model oluşturma / build\",\n",
    "                    3: \"Modeli veriye uydurma / fitting. Eğitim adımıdır.\",\n",
    "                    4: \"Tahminler yapma ve modeli değerlendirme. Çıkarım / inference adımıdır\",\n",
    "                    5: \"Modeli kaydetme / saving ve yükleme / loading.\",\n",
    "                    6: \"İşlemleri bir araya getirme\"}\n",
    "# Burada bir önceki bölümdeki \"deneysel olarak geliştirme\" adımı yoktur. Ona daha sonra bakılacaktır.\n",
    "\n",
    "# 1. data - prepare and load\n",
    "# 2. build model\n",
    "# 3. fitting the model to data - training.\n",
    "# 4. making predictions and evaluating a model - inference.\n",
    "# 5. saving a loading a model.\n",
    "# 6. putting it all together."
   ]
  },
  {
   "cell_type": "code",
   "execution_count": null,
   "id": "a0900f72",
   "metadata": {},
   "outputs": [],
   "source": [
    "what_were_covering"
   ]
  },
  {
   "cell_type": "markdown",
   "id": "286cea0a",
   "metadata": {},
   "source": [
    "__torch.nn, Sinir ağları için PyTorch Yapılarını bize sağlar. Bu yapılar belirli katmanlardır. Örneğin; evrişimli katmanlar ya da lineer katmanlardır. Detaylı bilgi için aşağıdaki adrese bakılabilir. Uygulamalarımızda bu katmanların bir kombinasyonunu kullanırız.__\n",
    "\n",
    "- Adres: https://pytorch.org/docs/stable/nn.html"
   ]
  },
  {
   "cell_type": "code",
   "execution_count": null,
   "id": "5fdee38d",
   "metadata": {},
   "outputs": [],
   "source": [
    "import torch\n",
    "from torch import nn\n",
    "import matplotlib.pyplot as plt # Görselleştirme için.\n",
    "\n",
    "# PyTorch versiyonu.\n",
    "torch.__version__"
   ]
  },
  {
   "cell_type": "markdown",
   "id": "8f556548",
   "metadata": {},
   "source": [
    "## 1. Veri Hazırlama (Data Preparing) ve Veri Yükleme (Data Loading)"
   ]
  },
  {
   "cell_type": "markdown",
   "id": "36c4a6af",
   "metadata": {},
   "source": [
    "Bir veri her türden görüntü, video, ses, metin veya DNA verisi vb. olabilir. \n",
    "\n",
    "Makine öğreniminde iki önemli adım şunlardır;\n",
    "\n",
    "1. Verilerin sayısal temsillere (numerical representation) dönüşümü.\n",
    "2. Bu sayısal temsillerden faydalı örüntüleri (patterns) oluşturmak için bir modelin oluşturulması (build)."
   ]
  },
  {
   "cell_type": "markdown",
   "id": "8f27cc7c",
   "metadata": {},
   "source": [
    "Basit bir şekilde veri oluşturma için burada doğrusal(lineer) regresyon formülünü kullanacağız. Burada __ağırlık - weight ve ön yargı - bias__ olarak *bilinen - known* parametreleri kullanacağız. \n",
    "\n",
    "Kullanacağımız doğrusal regresyon formülü: Y = weight * x + bias. "
   ]
  },
  {
   "cell_type": "code",
   "execution_count": 1,
   "id": "01405832",
   "metadata": {},
   "outputs": [],
   "source": [
    "# Bilinen parametreler. Bir model bu parametreleri doğru tahmin etmek için kurulur.\n",
    "weight = 0.7\n",
    "bias = 0.3"
   ]
  },
  {
   "cell_type": "code",
   "execution_count": 18,
   "id": "2298d6a8",
   "metadata": {},
   "outputs": [],
   "source": [
    "# Veri oluşturma.\n",
    "import torch\n",
    "start = 0\n",
    "end = 1\n",
    "step = 0.02 #veriler arasındaki adım.\n",
    "X = torch.arange(start, end, step).unsqueeze(dim = 1) # Unsqueeze ile ek boyut eklenir, bu gerekli olacaktır.\n",
    "y = weight * X + bias"
   ]
  },
  {
   "cell_type": "code",
   "execution_count": 19,
   "id": "6ae69cf8",
   "metadata": {},
   "outputs": [
    {
     "data": {
      "text/plain": [
       "(tensor([[0.0000],\n",
       "         [0.0200],\n",
       "         [0.0400],\n",
       "         [0.0600],\n",
       "         [0.0800],\n",
       "         [0.1000],\n",
       "         [0.1200],\n",
       "         [0.1400],\n",
       "         [0.1600],\n",
       "         [0.1800]]),\n",
       " 50,\n",
       " torch.Size([50, 1]),\n",
       " 2)"
      ]
     },
     "execution_count": 19,
     "metadata": {},
     "output_type": "execute_result"
    }
   ],
   "source": [
    "X[:10], len(X), X.shape, X.ndim # İlk 10 veri."
   ]
  },
  {
   "cell_type": "code",
   "execution_count": 17,
   "id": "ab41166e",
   "metadata": {},
   "outputs": [
    {
     "data": {
      "text/plain": [
       "(tensor([[0.3000],\n",
       "         [0.3140],\n",
       "         [0.3280],\n",
       "         [0.3420],\n",
       "         [0.3560],\n",
       "         [0.3700],\n",
       "         [0.3840],\n",
       "         [0.3980],\n",
       "         [0.4120],\n",
       "         [0.4260]]),\n",
       " 50,\n",
       " torch.Size([50, 1]),\n",
       " 2)"
      ]
     },
     "execution_count": 17,
     "metadata": {},
     "output_type": "execute_result"
    }
   ],
   "source": [
    "y[:10], len(y), y.shape, y.ndim # İlk 10 veri."
   ]
  }
 ],
 "metadata": {
  "kernelspec": {
   "display_name": "Python 3 (ipykernel)",
   "language": "python",
   "name": "python3"
  },
  "language_info": {
   "codemirror_mode": {
    "name": "ipython",
    "version": 3
   },
   "file_extension": ".py",
   "mimetype": "text/x-python",
   "name": "python",
   "nbconvert_exporter": "python",
   "pygments_lexer": "ipython3",
   "version": "3.9.13"
  }
 },
 "nbformat": 4,
 "nbformat_minor": 5
}
