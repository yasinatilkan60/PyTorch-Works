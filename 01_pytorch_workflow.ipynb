{
 "cells": [
  {
   "cell_type": "markdown",
   "id": "29211f6d",
   "metadata": {},
   "source": [
    "__PyTorch for Deep Learning in 2023: Zero To Mastery (Udemy) kaynağından çalışırken alınan notlardır.__"
   ]
  },
  {
   "cell_type": "markdown",
   "id": "416490ee",
   "metadata": {},
   "source": [
    "## PyTorch Çalışma Akışı"
   ]
  },
  {
   "cell_type": "markdown",
   "id": "b09c55fc",
   "metadata": {},
   "source": [
    "__Faydalı Kaynaklar__\n",
    "\n",
    "- Eğitmene ait orijinal notebook: https://github.com/mrdbourke/pytorch-deep-learning/blob/main/01_pytorch_workflow.ipynb\n",
    "- Kitap versiyonu: https://www.learnpytorch.io/01_pytorch_workflow/\n",
    "- Soru sormak için: https://github.com/mrdbourke/pytorch-deep-learning/discussions"
   ]
  },
  {
   "cell_type": "markdown",
   "id": "42f4538a",
   "metadata": {},
   "source": [
    "Burada değişken isimleri İngilizce tanımlanacaktır. Metinsel içerikler Türkçe ya da İngilizce olarak yazılabilir."
   ]
  },
  {
   "cell_type": "code",
   "execution_count": 1,
   "id": "ca2e01cc",
   "metadata": {},
   "outputs": [],
   "source": [
    "# Bir sözlük (dictionary) tanımı.\n",
    "what_were_covering = {1: \"veriyi hazırlama / prepare ve yükleme / load.\",\n",
    "                    2: \"Model oluşturma / build\",\n",
    "                    3: \"Modeli veriye uydurma / fitting. Eğitim adımıdır.\",\n",
    "                    4: \"Tahminler yapma ve modeli değerlendirme. Çıkarım / inference adımıdır\",\n",
    "                    5: \"Modeli kaydetme / saving ve yükleme / loading.\",\n",
    "                    6: \"İşlemleri bir araya getirme\"}\n",
    "# Burada bir önceki bölümdeki \"deneysel olarak geliştirme\" adımı yoktur. Ona daha sonra bakılacaktır.\n",
    "\n",
    "# 1. data - prepare and load\n",
    "# 2. build model\n",
    "# 3. fitting the model to data - training.\n",
    "# 4. making predictions and evaluating a model - inference.\n",
    "# 5. saving a loading a model.\n",
    "# 6. putting it all together."
   ]
  },
  {
   "cell_type": "code",
   "execution_count": 2,
   "id": "a0900f72",
   "metadata": {},
   "outputs": [
    {
     "data": {
      "text/plain": [
       "{1: 'veriyi hazırlama / prepare ve yükleme / load.',\n",
       " 2: 'Model oluşturma / build',\n",
       " 3: 'Modeli veriye uydurma / fitting. Eğitim adımıdır.',\n",
       " 4: 'Tahminler yapma ve modeli değerlendirme. Çıkarım / inference adımıdır',\n",
       " 5: 'Modeli kaydetme / saving ve yükleme / loading.',\n",
       " 6: 'İşlemleri bir araya getirme'}"
      ]
     },
     "execution_count": 2,
     "metadata": {},
     "output_type": "execute_result"
    }
   ],
   "source": [
    "what_were_covering"
   ]
  },
  {
   "cell_type": "markdown",
   "id": "286cea0a",
   "metadata": {},
   "source": [
    "__torch.nn, Sinir ağları için PyTorch Yapılarını bize sağlar. Bu yapılar belirli katmanlardır. Örneğin; evrişimli katmanlar ya da lineer katmanlardır. Detaylı bilgi için aşağıdaki adrese bakılabilir. Uygulamalarımızda bu katmanların bir kombinasyonunu kullanırız.__\n",
    "\n",
    "- Adres: https://pytorch.org/docs/stable/nn.html"
   ]
  },
  {
   "cell_type": "code",
   "execution_count": 3,
   "id": "5fdee38d",
   "metadata": {},
   "outputs": [
    {
     "data": {
      "text/plain": [
       "'1.13.0+cu117'"
      ]
     },
     "execution_count": 3,
     "metadata": {},
     "output_type": "execute_result"
    }
   ],
   "source": [
    "import torch\n",
    "from torch import nn\n",
    "import matplotlib.pyplot as plt # Görselleştirme için.\n",
    "\n",
    "# PyTorch versiyonu.\n",
    "torch.__version__"
   ]
  },
  {
   "cell_type": "markdown",
   "id": "8f556548",
   "metadata": {},
   "source": [
    "## 1. Veri Hazırlama (Data Preparing) ve Veri Yükleme (Data Loading)"
   ]
  },
  {
   "cell_type": "markdown",
   "id": "36c4a6af",
   "metadata": {},
   "source": [
    "Bir veri her türden görüntü, video, ses, metin veya DNA verisi vb. olabilir. \n",
    "\n",
    "Makine öğreniminde iki önemli adım şunlardır;\n",
    "\n",
    "1. Verilerin sayısal temsillere (numerical representation) dönüşümü.\n",
    "2. Bu sayısal temsillerden faydalı örüntüleri (patterns) oluşturmak için bir modelin oluşturulması (build)."
   ]
  },
  {
   "cell_type": "markdown",
   "id": "8f27cc7c",
   "metadata": {},
   "source": [
    "Basit bir şekilde veri oluşturma için burada doğrusal(lineer) regresyon formülünü kullanacağız. Burada __ağırlık - weight ve ön yargı - bias__ olarak *bilinen - known* parametreleri kullanacağız. \n",
    "\n",
    "Kullanacağımız doğrusal regresyon formülü: Y = weight * x + bias. "
   ]
  },
  {
   "cell_type": "code",
   "execution_count": 4,
   "id": "01405832",
   "metadata": {},
   "outputs": [],
   "source": [
    "# Bilinen parametreler. Bir model bu parametreleri doğru tahmin etmek için kurulur.\n",
    "weight = 0.7\n",
    "bias = 0.3"
   ]
  },
  {
   "cell_type": "code",
   "execution_count": 5,
   "id": "2298d6a8",
   "metadata": {},
   "outputs": [],
   "source": [
    "# Veri oluşturma.\n",
    "import torch\n",
    "start = 0\n",
    "end = 1\n",
    "step = 0.02 #veriler arasındaki adım.\n",
    "X = torch.arange(start, end, step).unsqueeze(dim = 1) # Unsqueeze ile ek boyut eklenir, bu gerekli olacaktır.\n",
    "y = weight * X + bias"
   ]
  },
  {
   "cell_type": "code",
   "execution_count": 6,
   "id": "6ae69cf8",
   "metadata": {},
   "outputs": [
    {
     "data": {
      "text/plain": [
       "(tensor([[0.0000],\n",
       "         [0.0200],\n",
       "         [0.0400],\n",
       "         [0.0600],\n",
       "         [0.0800],\n",
       "         [0.1000],\n",
       "         [0.1200],\n",
       "         [0.1400],\n",
       "         [0.1600],\n",
       "         [0.1800]]),\n",
       " 50,\n",
       " torch.Size([50, 1]),\n",
       " 2)"
      ]
     },
     "execution_count": 6,
     "metadata": {},
     "output_type": "execute_result"
    }
   ],
   "source": [
    "X[:10], len(X), X.shape, X.ndim # İlk 10 veri."
   ]
  },
  {
   "cell_type": "code",
   "execution_count": 7,
   "id": "ab41166e",
   "metadata": {
    "scrolled": true
   },
   "outputs": [
    {
     "data": {
      "text/plain": [
       "(tensor([[0.3000],\n",
       "         [0.3140],\n",
       "         [0.3280],\n",
       "         [0.3420],\n",
       "         [0.3560],\n",
       "         [0.3700],\n",
       "         [0.3840],\n",
       "         [0.3980],\n",
       "         [0.4120],\n",
       "         [0.4260]]),\n",
       " 50,\n",
       " torch.Size([50, 1]),\n",
       " 2)"
      ]
     },
     "execution_count": 7,
     "metadata": {},
     "output_type": "execute_result"
    }
   ],
   "source": [
    "y[:10], len(y), y.shape, y.ndim # İlk 10 veri."
   ]
  },
  {
   "cell_type": "markdown",
   "id": "bfc170ef",
   "metadata": {},
   "source": [
    "## 2. Verileri Eğitim ve Test Verileri Olarak Ayırmak "
   ]
  },
  {
   "cell_type": "markdown",
   "id": "18da4705",
   "metadata": {},
   "source": [
    "Makine öğrenmesinden en önemli kavramlardan biridir. Bu aşamada veri setinde üç veri tipi mevcuttur. Bunlar;\n",
    "\n",
    "1. Eğitim seti (training set): Oluşturduğumuz makine öğrenmesi modeli örüntüleri (patterns) buradan öğrenir. Verilerin %60 - %80 kısmı bu sete ayrılır.\n",
    "2. Doğrulama seti (validation set): Model örüntüleri ayarlanır (tune). Gerekli görülürse model tekrar eğitilebilir (retrain). Bu veri setini **her zaman kullanmamız gerekmez.** Verilerin %10 - %20 kısmı bu sete ayrılır. \n",
    "3. Test seti: Modelin nihai uygulamaya ya da gerçek dünyaya hazır olup olmadığını anlama adımında kullanılacak olan verilerdir. Verilerin %10 - %20 kısmı bu sete ayrılır."
   ]
  },
  {
   "cell_type": "markdown",
   "id": "51fad46d",
   "metadata": {},
   "source": [
    "Tüm bunların yapılmasındaki nihai amaç **genellemedir**. **Genelleme**, bir makine öğrenme modelinin daha önce rastlamadığı veri ya da durumlar karşısında davranmasıdır."
   ]
  },
  {
   "cell_type": "code",
   "execution_count": 8,
   "id": "ef710e34",
   "metadata": {},
   "outputs": [
    {
     "name": "stdout",
     "output_type": "stream",
     "text": [
      "Eğitim veri seti uzunlukları: (40, 40)\n",
      "Test veri seti uzunlukları: (10, 10)\n"
     ]
    }
   ],
   "source": [
    "# Eğitim / test veri ayrıtını (split) oluşturma.\n",
    "train_split = int(0.8 * len(X)) # Verilerin %80'lik kısmına (40) ayrıt konulacaktır.\n",
    "X_train, y_train = X[:train_split], y[:train_split]\n",
    "X_test, y_test = X[train_split:], y[train_split:]\n",
    "\n",
    "print(f\"Eğitim veri seti uzunlukları: {len(X_train), len(y_train)}\")\n",
    "print(f\"Test veri seti uzunlukları: {len(X_test), len(y_test)}\")"
   ]
  },
  {
   "cell_type": "markdown",
   "id": "275f2146",
   "metadata": {},
   "source": [
    "## 3. Daha İyi Anlamak: Görselleştirme"
   ]
  },
  {
   "cell_type": "markdown",
   "id": "d44d31ac",
   "metadata": {},
   "source": [
    "Verileri yazdırarak görsek de onlar arasındaki ilişkiyi daha iyi görmek ya da çalışma sonucunu görmek için uygulamalarımızda görselleştirmeyi kullanırız."
   ]
  },
  {
   "cell_type": "code",
   "execution_count": 9,
   "id": "8a4786b9",
   "metadata": {},
   "outputs": [],
   "source": [
    "# Verileri çizdirmek için bir fonksiyon tanımlayalım.\n",
    "def plot_predictions(train_data = X_train,\n",
    "                     train_labels = y_train,\n",
    "                     test_data = X_test,\n",
    "                     test_labels = y_test,\n",
    "                     predictions = None):\n",
    "    \"\"\"\n",
    "    Tr: Eğitim verisi, test verisini çizdirme ve tahminleri karşılaştırma.\n",
    "    En: Plots training data, test data and compares predictions. \n",
    "    \"\"\"\n",
    "    \n",
    "    plt.figure(figsize = (8, 5)) #Görselleştirme boyut ayarı.\n",
    "    \n",
    "    # Eğitim verisi mavi renk ile çizdirilsin.\n",
    "    plt.scatter(train_data, train_labels, c = \"b\", s = 4, label = \"Eğitim verisi\") # Mavi noktalar.\n",
    "    \n",
    "    # Test verisi yeşil renk ile çizdirilsin.\n",
    "    plt.scatter(test_data, test_labels, c = \"g\", s = 4, label = \"Test verisi\") # Yeşil noktalar.\n",
    "    \n",
    "    # Tahminler üretilmiş ise;\n",
    "    if predictions is not None:\n",
    "        # Tahminleri çizdir.\n",
    "        plt.scatter(test_data, predictions, c = \"r\", label = \"Tahminler.\") # Kırmızı noktalar.\n",
    "    \n",
    "    # Görselleştirmenin sol üstünde bilgi tablosu oluşturmak.\n",
    "    plt.legend(prop = {\"size\" : 10})"
   ]
  },
  {
   "cell_type": "code",
   "execution_count": 10,
   "id": "b47ddfd6",
   "metadata": {},
   "outputs": [
    {
     "data": {
      "image/png": "[encoded data removed]",
      "text/plain": [
       "<Figure size 800x500 with 1 Axes>"
      ]
     },
     "metadata": {},
     "output_type": "display_data"
    }
   ],
   "source": [
    "# Fonksiyonu çağıralım. Eğitim verileri mavi nokta, test verileri yeşil nokta ile çıkacaktır. \n",
    "plot_predictions()"
   ]
  },
  {
   "cell_type": "markdown",
   "id": "7b69ee15",
   "metadata": {},
   "source": [
    "İyi oluşturulan bir makine öğrenmesi modeli tahminleri sayesinde yeşil noktalar üzerinde kırmızı noktalar olmalıdır."
   ]
  },
  {
   "cell_type": "markdown",
   "id": "ef833e9d",
   "metadata": {},
   "source": [
    "## 4. Doğrusal (Lineer) Regresyon ile Makine Öğrenmesi Modelini Oluşturmak"
   ]
  },
  {
   "cell_type": "markdown",
   "id": "1d1dfc24",
   "metadata": {},
   "source": [
    "Model kısaca aşağıdaki iki adımı gerçekleştirecektir.\n",
    "\n",
    "1. Rastgele ağırlık (weight) ve *bias* değeri ile başlanır.\n",
    "2. Eğitim verilerine bakılır ve bu rastgele verileri daha iyi temsillere dönüştürülür. Daha iyi temsillerden kasıt yukardaki verileri oluştururken *bilinen* olarak adlandırılan ağırlık 0.7 ve *bias* 0.3 değerleridir. Amacımız rastgele başlattığımız değerleri bu değerlere yaklaştırmak ve belki de tam olarak bu değerleri bulmaktır. \n",
    "\n",
    "Bunun için iki algoritma kullanılabilir. \n",
    "\n",
    "1. Gradyan iniş algoritması (Gradient descent algorithm)\n",
    "2. Geri yayılım algoritması (Backpropagation algorithm)\n",
    "\n",
    "Aşağıdaki modelde __requires_grad parametresinin True olarak ayarlanması__ gerekmektedir. PyTorch bu iki parametrenin gradyanlarını kullanır. Daha sonra yukarıdaki algoritmaların kombinasyonu ile bu iki parametre istenilen yönde güncellenecektir."
   ]
  },
  {
   "cell_type": "code",
   "execution_count": 11,
   "id": "f0e2f128",
   "metadata": {},
   "outputs": [],
   "source": [
    "# Doğrusal regresyon modeli sınıfını oluşturmak.\n",
    "# nn.Module sınıfından kalıtım (inheritance) uygulamalıyız.\n",
    "# PyTorch içerisindeki birçok şey nn.Module'dan miras alınır.\n",
    "class LinearRegressionModel(nn.Module):\n",
    "    def __init__(self):\n",
    "        super().__init__() # Üst sınıfın (nn.Module) init() öğesini kullanmak için yazılmalıdır.\n",
    "        # Rastgele ağırlık başlatırız ve doğru değerine doğru güncellenir.\n",
    "        self.weight = nn.Parameter(torch.randn(1,\n",
    "                                                requires_grad = True, # <- Gradyan iniş ile parametre güncellensin mi?\n",
    "                                                dtype = torch.float)) # PyTorch'da float32 veri tipi.\n",
    "        \n",
    "        # Rastgele *bias* başlatırız ve doğru değerine doğru güncellenir.\n",
    "        self.bias = nn.Parameter(torch.randn(1,\n",
    "                                             requires_grad = True, # Gradyan iniş ile parametre güncellensin mi?\n",
    "                                             dtype = torch.float)) # PyTorch'da float32 veri tipi.\n",
    "        \n",
    "    # Modelde hesaplama için tanımlanan bir *forward* metotu.\n",
    "    # x giriş ya da eğitim verisidir.\n",
    "    def forward(self, x: torch.Tensor) -> torch.Tensor: \n",
    "        return self.weight * x + self.bias # Doğrusal regresyon formülü.\n",
    "    "
   ]
  },
  {
   "cell_type": "markdown",
   "id": "324de569",
   "metadata": {},
   "source": [
    "Yukarıdaki kod bloğu için bilgiler;\n",
    "\n",
    "- **nn.Module:** Sinir ağları için oluşturulmuş yapıları (building blocks) içerir. Doğrusal regresyon model sınıfımız bunu miras (inheritance) alarak bunun bir alt sınıfıdır (subclass).\n",
    "- **requires_grad = True:** Bu genelde True olarak ayarlanır. PyTorch ilgili parametre için yaptığı hesaplamalarda gradyan inişini (descent) ve **torch.autograd** yapısını kullanır.\n",
    "- **forward()**: nn.Module miras alınıyorsa her alt sınıf yani model bu metotu **ezmelidir (override).**"
   ]
  },
  {
   "cell_type": "markdown",
   "id": "d7dba78b",
   "metadata": {},
   "source": [
    "- Gradyan iniş için ek bir kaynak: https://www.youtube.com/watch?v=IHZwWFHWa-w\n",
    "- Geri yayılım (backpropagation) için ek bir kaynak: https://www.youtube.com/watch?v=Ilg3gGewQ5U"
   ]
  },
  {
   "cell_type": "markdown",
   "id": "ad04547b",
   "metadata": {},
   "source": [
    "## 5. PyTorch Model Oluşturma Temelleri"
   ]
  },
  {
   "cell_type": "markdown",
   "id": "baff0870",
   "metadata": {},
   "source": [
    "- **torch.nn:** Hesaplamalı graflar için oluşturulan yapıları içerir. Burada sinir ağları bir hesaplamalı graflar olarak da geçebilir.\n",
    "- **torch.nn.Parameter:** torch.nn'den bir PyTorch katmanının (layer) modelimizde deneme (try) ve öğrenme (learn) işlemlerini yapacağı parametrelerdir.\n",
    "- **torch.nn.Module:** Sinir ağları modelleri için bir temel (base) sınıftır. Bunu miras (inheritance) olarak aldığımızda **forward()** metotunu ezmeliyiz (override).\n",
    "- **torch.optim:** Çeşitli optimizasyon algoritmalarını içerir. nn.Parameter içerisinde bulunan model parametrelerinin gradyan inişi iyileştirmek ve sonucunda kaybı (loss) azaltmak için güncellenme şekli belirlenir. PyTorch içerisinde optimize ediciler buradadır. Gradyan iniş (descent) ile kullanılırlar.\n",
    "- **def forward():** nn.Module alt sınıfları (subclass), nn.Module'ı miras alan tüm sınıflar bu metotu ezmelidir (override). Bu metot parametreler ile birlikte hesaplamayı ifade eder. "
   ]
  },
  {
   "cell_type": "markdown",
   "id": "bed2bd85",
   "metadata": {},
   "source": [
    "Yukarıdaki örnekten farklı olarak daha karmaşık veri setinin kullanılması durumunda **torch.utils.data.Dataset** ve **torch.utils.data.DataLoader** kullanılır.\n",
    "\n",
    "- **torch.utils.data.Dataset:** Verilerin etiketler (key - label) ve örnekleri (sample - feature) arasındaki haritalamadır.  Örneğin; görüntü verileri ve ilgili etiketleri (labels).\n",
    "\n",
    "- **torch.utils.data.DataLoader:** Bir torch veri seti üzerinde Python iterasyonu oluşur.\n",
    "\n",
    "Ayrıntılı bilgi için adres: https://pytorch.org/tutorials/beginner/ptcheat.html"
   ]
  },
  {
   "cell_type": "markdown",
   "id": "88878896",
   "metadata": {},
   "source": [
    "## 6. PyTorch Çalışma Akışında Kullanılan Başlıca Modüller"
   ]
  },
  {
   "cell_type": "markdown",
   "id": "9af37572",
   "metadata": {},
   "source": [
    "#### Veri hazırlama (Verileri tensörlere çevirme) "
   ]
  },
  {
   "cell_type": "markdown",
   "id": "d8e3b329",
   "metadata": {},
   "source": [
    "- torchvision.transforms (torchvision, PyTorch bilgisayar görü modülüdür.)\n",
    "- torch.utils.data.Dataset\n",
    "- torch.utils.data.DataLoader"
   ]
  },
  {
   "cell_type": "markdown",
   "id": "155a405d",
   "metadata": {},
   "source": [
    "#### Model oluşturma ya da önceden eğitilmiş (pretrained) modeli kullanma "
   ]
  },
  {
   "cell_type": "markdown",
   "id": "53dd8a17",
   "metadata": {},
   "source": [
    "- torch.nn\n",
    "- torch.nn.Module\n",
    "- torchvision.models\n",
    "- torch.optim: Veri setini daha iyi hale getirmek için model parametrelerini optimize etmeyi sağlar."
   ]
  },
  {
   "cell_type": "markdown",
   "id": "7d331a29",
   "metadata": {},
   "source": [
    "#### Modeli değerlendirmek"
   ]
  },
  {
   "cell_type": "markdown",
   "id": "8343a27d",
   "metadata": {},
   "source": [
    "- torchmetrics"
   ]
  },
  {
   "cell_type": "markdown",
   "id": "eed0f7e3",
   "metadata": {},
   "source": [
    "#### Deney ile geliştirme (iyileştirme)"
   ]
  },
  {
   "cell_type": "markdown",
   "id": "93ea6d1d",
   "metadata": {},
   "source": [
    "- torch.utils.tensorboard"
   ]
  },
  {
   "cell_type": "markdown",
   "id": "27e4b6b6",
   "metadata": {},
   "source": [
    "## 7. PyTorch Modelinin İçeriğini İncelemek"
   ]
  },
  {
   "cell_type": "markdown",
   "id": "eead58f1",
   "metadata": {},
   "source": [
    "**.parameters()** kullanarak model parametreleri kontrol edilebilir. "
   ]
  },
  {
   "cell_type": "markdown",
   "id": "ec5adc4c",
   "metadata": {},
   "source": [
    "#### Bir **random seed** oluşturmak"
   ]
  },
  {
   "cell_type": "markdown",
   "id": "0ae2fbfc",
   "metadata": {},
   "source": [
    "Daha önce bahsedildiği gibi **random seed** yapısı kullanılmadan oluşturulan rastgele parametre içerikleri her çalıştırmada farklı olarak üretilir. "
   ]
  },
  {
   "cell_type": "code",
   "execution_count": 12,
   "id": "de7eefbf",
   "metadata": {},
   "outputs": [
    {
     "data": {
      "text/plain": [
       "[Parameter containing:\n",
       " tensor([0.3367], requires_grad=True),\n",
       " Parameter containing:\n",
       " tensor([0.1288], requires_grad=True)]"
      ]
     },
     "execution_count": 12,
     "metadata": {},
     "output_type": "execute_result"
    }
   ],
   "source": [
    "# Rastgele **random seed** oluşturmak.\n",
    "torch.manual_seed(42)\n",
    "\n",
    "# Modelin örneğini oluşturmak. (Bu nn.Module alt sınıfır - subclass.)\n",
    "model_0 = LinearRegressionModel()\n",
    "\n",
    "# Model parametrelerini kontrol etmek.\n",
    "list(model_0.parameters())"
   ]
  },
  {
   "cell_type": "code",
   "execution_count": 13,
   "id": "f5736f8f",
   "metadata": {},
   "outputs": [
    {
     "data": {
      "text/plain": [
       "OrderedDict([('weight', tensor([0.3367])), ('bias', tensor([0.1288]))])"
      ]
     },
     "execution_count": 13,
     "metadata": {},
     "output_type": "execute_result"
    }
   ],
   "source": [
    "# Model parametrelerinin isimlerini almak.\n",
    "model_0.state_dict()"
   ]
  },
  {
   "cell_type": "code",
   "execution_count": 14,
   "id": "dd85c405",
   "metadata": {},
   "outputs": [
    {
     "data": {
      "text/plain": [
       "(0.7, 0.3)"
      ]
     },
     "execution_count": 14,
     "metadata": {},
     "output_type": "execute_result"
    }
   ],
   "source": [
    "# En başta belirlenen ideal verileri hatırlama.\n",
    "weight, bias"
   ]
  },
  {
   "cell_type": "markdown",
   "id": "eb8051d0",
   "metadata": {},
   "source": [
    "İşte buradaki ideal yaklaşım ve amacımız olan şey rastgele başlatılan iki veri **weight** ve **bias** verilerini ideal veriler olan sırası ile **0.7** ve **0.3** verilerine yaklaştırmaktır. Bunun için elimizde olan eğitim verilerini, geri yayılım (backpropagation) ve gradyan inişi (descent) kullanırız. Çoğu durumda bu ideal verilerin ne olduğuna sahip olmayacağımızı bilmeliyiz."
   ]
  },
  {
   "cell_type": "markdown",
   "id": "34734cde",
   "metadata": {},
   "source": [
    "## 8. Çıkarım (Inference) Modu Kullanarak Rastgele Model ile Tahmin (Prediction) Üretmek  "
   ]
  },
  {
   "cell_type": "markdown",
   "id": "0ae124b9",
   "metadata": {},
   "source": [
    "**torch.inference_mode()** ile tahmin üretmek."
   ]
  },
  {
   "cell_type": "markdown",
   "id": "d14f8375",
   "metadata": {},
   "source": [
    "**X_test** verilerine dayalı **y_test** tahminleri yaparak modelin tahmin yeteneğini değerlendirebiliriz. Model üzerinden veri iletildiğinde **forward()** metotu kullanılır."
   ]
  },
  {
   "cell_type": "code",
   "execution_count": 15,
   "id": "269d92f1",
   "metadata": {
    "scrolled": true
   },
   "outputs": [
    {
     "data": {
      "text/plain": [
       "tensor([[0.3982],\n",
       "        [0.4049],\n",
       "        [0.4116],\n",
       "        [0.4184],\n",
       "        [0.4251],\n",
       "        [0.4318],\n",
       "        [0.4386],\n",
       "        [0.4453],\n",
       "        [0.4520],\n",
       "        [0.4588]])"
      ]
     },
     "execution_count": 15,
     "metadata": {},
     "output_type": "execute_result"
    }
   ],
   "source": [
    "# Model ile tahminleri üretmek.\n",
    "\n",
    "with torch.inference_mode():\n",
    "    y_predictions = model_0(X_test)\n",
    "\n",
    "y_predictions # Yapılan tahminler."
   ]
  },
  {
   "cell_type": "code",
   "execution_count": 17,
   "id": "aa111503",
   "metadata": {},
   "outputs": [
    {
     "data": {
      "text/plain": [
       "tensor([[0.8600],\n",
       "        [0.8740],\n",
       "        [0.8880],\n",
       "        [0.9020],\n",
       "        [0.9160],\n",
       "        [0.9300],\n",
       "        [0.9440],\n",
       "        [0.9580],\n",
       "        [0.9720],\n",
       "        [0.9860]])"
      ]
     },
     "execution_count": 17,
     "metadata": {},
     "output_type": "execute_result"
    }
   ],
   "source": [
    "y_test # Gerçek test verileri."
   ]
  },
  {
   "cell_type": "markdown",
   "id": "83c9c99e",
   "metadata": {},
   "source": [
    "#### Yapılan tahminler ile gerçek verileri görselleştirme."
   ]
  },
  {
   "cell_type": "code",
   "execution_count": 18,
   "id": "c9b1b304",
   "metadata": {},
   "outputs": [
    {
     "data": {
      "image/png": "[encoded data removed]",
      "text/plain": [
       "<Figure size 800x500 with 1 Axes>"
      ]
     },
     "metadata": {},
     "output_type": "display_data"
    }
   ],
   "source": [
    "plot_predictions(predictions = y_predictions)"
   ]
  },
  {
   "cell_type": "markdown",
   "id": "a4667fa1",
   "metadata": {},
   "source": [
    "#### Şu noktada model, kırmızı noktalar yeşil test noktalarının üzerinde olmadığı için ideal değildir. Modeli ideal hale getirmek gerekir. Bundan önce aşağıda torch.inference_mode kullanımından bahsedilecektir."
   ]
  },
  {
   "cell_type": "markdown",
   "id": "953e019d",
   "metadata": {},
   "source": [
    "#### torch.inference_mode neden kullanıldı?"
   ]
  },
  {
   "cell_type": "code",
   "execution_count": 19,
   "id": "898aaf57",
   "metadata": {},
   "outputs": [
    {
     "data": {
      "text/plain": [
       "tensor([[0.3982],\n",
       "        [0.4049],\n",
       "        [0.4116],\n",
       "        [0.4184],\n",
       "        [0.4251],\n",
       "        [0.4318],\n",
       "        [0.4386],\n",
       "        [0.4453],\n",
       "        [0.4520],\n",
       "        [0.4588]], grad_fn=<AddBackward0>)"
      ]
     },
     "execution_count": 19,
     "metadata": {},
     "output_type": "execute_result"
    }
   ],
   "source": [
    "# torch.inference_mode kullanılmadan.\n",
    "y_preds = model_0(X_test)\n",
    "y_preds"
   ]
  },
  {
   "cell_type": "markdown",
   "id": "775900e9",
   "metadata": {},
   "source": [
    "Görüldüğü üzere tensör çıktısında ikinci eleman olarak *grad fonksiyonu* eklenmiştir. Burada eğitim (train) değil tahmin (test) yapıldığı için **inference_mode()** kullanarak gradyan takibinin (gradient track) kapatılması yapılır. Kısaca bu **inference_mode()** eğitim (train) yapılırken kullanılması gereken işlemleri kapatır ya da devre dışı bırakır. Bunun için aşağıdaki içerik ek bilgi verir.\n",
    "\n",
    "- https://twitter.com/pytorch/status/1437838231505096708"
   ]
  },
  {
   "cell_type": "markdown",
   "id": "c3f4982e",
   "metadata": {},
   "source": [
    "Yukarıdaki kaynakta da belirtildiği gibi torch.inference_mode() kullanımı **torch.no_grad()** üzerine avantaj oluşturmak için oluşturulmuştur. Tahmin aşağıdaki gibi yapılabilir. **torch.inference_mode()** tercih edilmektedir."
   ]
  },
  {
   "cell_type": "code",
   "execution_count": 21,
   "id": "41fa0c88",
   "metadata": {},
   "outputs": [
    {
     "data": {
      "text/plain": [
       "tensor([[0.3982],\n",
       "        [0.4049],\n",
       "        [0.4116],\n",
       "        [0.4184],\n",
       "        [0.4251],\n",
       "        [0.4318],\n",
       "        [0.4386],\n",
       "        [0.4453],\n",
       "        [0.4520],\n",
       "        [0.4588]])"
      ]
     },
     "execution_count": 21,
     "metadata": {},
     "output_type": "execute_result"
    }
   ],
   "source": [
    "with torch.no_grad():\n",
    "    y_predictions_with_no_grad = model_0(X_test)\n",
    "\n",
    "y_predictions_with_no_grad"
   ]
  }
 ],
 "metadata": {
  "kernelspec": {
   "display_name": "Python 3 (ipykernel)",
   "language": "python",
   "name": "python3"
  },
  "language_info": {
   "codemirror_mode": {
    "name": "ipython",
    "version": 3
   },
   "file_extension": ".py",
   "mimetype": "text/x-python",
   "name": "python",
   "nbconvert_exporter": "python",
   "pygments_lexer": "ipython3",
   "version": "3.9.13"
  }
 },
 "nbformat": 4,
 "nbformat_minor": 5
}
