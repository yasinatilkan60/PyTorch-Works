{
 "cells": [
  {
   "cell_type": "markdown",
   "id": "e0937fb2",
   "metadata": {},
   "source": [
    "__PyTorch for Deep Learning in 2023: Zero To Mastery (Udemy) kaynağından çalışırken alınan notlardır.__"
   ]
  },
  {
   "cell_type": "markdown",
   "id": "90d0a883",
   "metadata": {},
   "source": [
    "## PyTorch Nedir?"
   ]
  },
  {
   "cell_type": "markdown",
   "id": "80c97891",
   "metadata": {},
   "source": [
    "Popüler açık kaynak derin öğrenme / makine öğrenmesi çatısıdır (framework). GPU üzerinde çalışabilecek Python ile yazılmış derin öğrenme uygulamaları çalıştırabiliriz. Tesla, Microsoft, OpenAI gibi şirketler kullanır. "
   ]
  },
  {
   "cell_type": "markdown",
   "id": "aa09d6ff",
   "metadata": {},
   "source": [
    "## PyTorch Neden  Kullanılır?"
   ]
  },
  {
   "cell_type": "markdown",
   "id": "18aa0b9a",
   "metadata": {},
   "source": [
    "Makine öğrenmesinin gücünden yararlanarak çok zor problemleri çözebilecek imkanı sağlar. Robotik, tarım, sağlık vb. birçok alanda PyTorch kullanılabilir. Bilgisayar görü, doğal dil işleme vb. birçok yaklaşım üzerinde çözüm sağlar. "
   ]
  },
  {
   "cell_type": "markdown",
   "id": "a387786a",
   "metadata": {},
   "source": [
    "## GPU (Grafik İşlem Birimi) ve TPU (Tensör İşlem Birimi)"
   ]
  },
  {
   "cell_type": "markdown",
   "id": "0610501c",
   "metadata": {},
   "source": [
    "Yüksek işlem gücü isteyen derin öğrenme algoritmalarını GPU üzerinde çalıştırabiliriz. Burada NVIDIA tarafından sağlanan CUDA kullanılır."
   ]
  },
  {
   "cell_type": "markdown",
   "id": "43ba59bb",
   "metadata": {},
   "source": [
    "TPU ise GPU'dan farklı olarak makine öğrenmesine özel amaçla geliştirilmiş bir yapıdır."
   ]
  },
  {
   "cell_type": "markdown",
   "id": "8c897ef8",
   "metadata": {},
   "source": [
    "## Tensör Nedir?"
   ]
  },
  {
   "cell_type": "markdown",
   "id": "9752eb0a",
   "metadata": {},
   "source": [
    "Daha önceden bahsettiğimiz gibi sinir ağlarına çok çeşitli (görüntü, metin, ses vb.) veriler kendi hali ile değil nümerik halinde verilirler. Bu şekilde sinir ağlarının verileri sayısal giriş olarak aldığı ve yine sonucunda sonuç olarak ürettiği sayısal yapılara tensör denir. Tensörler vektör, matris vb. yapıda olabilirler.  "
   ]
  },
  {
   "cell_type": "markdown",
   "id": "b5429bc1",
   "metadata": {},
   "source": [
    "## Çalışma Akışı"
   ]
  },
  {
   "cell_type": "markdown",
   "id": "c2bd4a38",
   "metadata": {},
   "source": [
    "1. Temel PyTorch bilgisi ve temelleri (tensör ve tensör operasyonları.)\n",
    "2. Veri ön işleme (Tensörler üzerinde veriler.)\n",
    "3. Önceden eğitilmiş derin öğrenme modellerini kullanma.\n",
    "4. Veri ile model uydurma (fitting) (Örüntüleri öğrenme - learning patterns.)\n",
    "5. Öğrenilen örüntüleri kullanarak bir model ile tahmin üretme.\n",
    "6. Model tahminlerini değerlendirme (evaluating).\n",
    "7. Modelleri kaydetme ve yükleme.\n",
    "8. Özel (custom) veri üzerinde eğitilmiş bir model kullanarak tahmin yapma. "
   ]
  },
  {
   "cell_type": "markdown",
   "id": "bf166c63",
   "metadata": {},
   "source": [
    "## PyTorch Çalışma Akışı"
   ]
  },
  {
   "cell_type": "markdown",
   "id": "ef258cea",
   "metadata": {},
   "source": [
    "1. Verileri hazırla (Tensörler ile ifade et.)\n",
    "2. Önceden eğitilmiş bir model oluşturma veya seçme (build or pick.)\n",
    "    2.1 Bir kayıp fonksiyonu (loss function) veya iyileştirici seçme (pick).\n",
    "    2.2 Bir eğitim döngüsü oluşturma.\n",
    "3. Modeli veriye uydurma (fitting) ve bir tahmin yapma.\n",
    "4. Modeli değerlendirme.\n",
    "5. Deneysel olarak geliştirme (improve).\n",
    "6. Eğitilen modeli kaydetme ve tekrar yükleme (reload)."
   ]
  },
  {
   "cell_type": "markdown",
   "id": "370528ba",
   "metadata": {},
   "source": [
    "## Alıştırmalar ve Faydalı Kaynaklar"
   ]
  },
  {
   "cell_type": "markdown",
   "id": "c5a5f851",
   "metadata": {},
   "source": [
    "Ek çalışmalar için __learnpytorch.io__ adresinden faydalanılabilir."
   ]
  },
  {
   "cell_type": "markdown",
   "id": "454b968d",
   "metadata": {},
   "source": [
    "__https://github.com/mrdbourke/pytorch-deep-learning__ adresinden içerik ile ilgili etkileşime geçilebilir."
   ]
  },
  {
   "cell_type": "markdown",
   "id": "e6a0d2a8",
   "metadata": {},
   "source": [
    "En önemli adres bu çalışmanın da üzerine tasarlandığı pytorch resmi adresi __pytorch.org__ adresi ve forum platformlarıdır."
   ]
  },
  {
   "cell_type": "markdown",
   "id": "689757a7",
   "metadata": {},
   "source": [
    "Daha kolay şekilde Google Colab üzerinde PyTorch uygulamaları çalıştırabiliriz ya da yerel makinemizi de kullanabiliriz. Burada linux / ubuntu kullanılarak çalışmalar yerel bilgisayarımızda gerçekleştirilecektir."
   ]
  },
  {
   "cell_type": "markdown",
   "id": "1d9620ca",
   "metadata": {},
   "source": [
    "Kullanacğımız kütüphaneleri aşağıda import edilmiştir."
   ]
  },
  {
   "cell_type": "code",
   "execution_count": 2,
   "id": "342a075e",
   "metadata": {},
   "outputs": [
    {
     "name": "stdout",
     "output_type": "stream",
     "text": [
      "1.13.0+cu117\n"
     ]
    }
   ],
   "source": [
    "import torch # PyTorch\n",
    "import pandas as pd\n",
    "import numpy as np\n",
    "import matplotlib.pyplot as plt\n",
    "print(torch.__version__)"
   ]
  },
  {
   "cell_type": "markdown",
   "id": "3a2e419f",
   "metadata": {},
   "source": [
    "CUDA, NVIDIA tarafından oluşturulan algoritmaların GPU üzerinde çalışmasını sağlayan teknolojidir. "
   ]
  },
  {
   "cell_type": "markdown",
   "id": "0c4712eb",
   "metadata": {},
   "source": [
    "## PyTorch ile Tensor Yapılarına Giriş"
   ]
  },
  {
   "cell_type": "markdown",
   "id": "644a4519",
   "metadata": {},
   "source": [
    "#### Tensör Oluşturma"
   ]
  },
  {
   "cell_type": "code",
   "execution_count": null,
   "id": "60d81e47",
   "metadata": {},
   "outputs": [],
   "source": [
    "# skaler (Basit bir değer.) bir tensör.\n",
    "scalar = torch.tensor(7)\n",
    "scalar"
   ]
  },
  {
   "cell_type": "code",
   "execution_count": null,
   "id": "db487ba5",
   "metadata": {},
   "outputs": [],
   "source": [
    "print(type(scalar))"
   ]
  },
  {
   "cell_type": "markdown",
   "id": "03640925",
   "metadata": {},
   "source": [
    "__torch.Tensor__, tek bir veri tipinin elemanlarını içeren çok boyutlu matristir."
   ]
  },
  {
   "cell_type": "markdown",
   "id": "36fa0fa8",
   "metadata": {},
   "source": [
    "Tensörün boyutu aşağıdaki gibi __ndim__ metotu ile alınabilir."
   ]
  },
  {
   "cell_type": "code",
   "execution_count": null,
   "id": "8c1a1b54",
   "metadata": {},
   "outputs": [],
   "source": [
    "scalar.ndim"
   ]
  },
  {
   "cell_type": "code",
   "execution_count": null,
   "id": "724c00c1",
   "metadata": {},
   "outputs": [],
   "source": [
    "# Python int tipinde tensör'ü geri almak.\n",
    "num = scalar.item()\n",
    "print(num)\n",
    "print(type(num))"
   ]
  },
  {
   "cell_type": "code",
   "execution_count": null,
   "id": "9de81e8e",
   "metadata": {},
   "outputs": [],
   "source": [
    "# vektör (Yönü olan sayısal büyüklük.) bir tensör.\n",
    "vector = torch.tensor([3, 3])\n",
    "vector"
   ]
  },
  {
   "cell_type": "code",
   "execution_count": null,
   "id": "904e8b53",
   "metadata": {},
   "outputs": [],
   "source": [
    "print(type(vector)) # 7. satır ile aynı sonuç alınır."
   ]
  },
  {
   "cell_type": "code",
   "execution_count": null,
   "id": "d2f2a0ba",
   "metadata": {},
   "outputs": [],
   "source": [
    "# Vektörün boyutu.\n",
    "vector.ndim"
   ]
  },
  {
   "cell_type": "markdown",
   "id": "09b1549e",
   "metadata": {},
   "source": [
    "__shape__ metotu ile de bilgi alınır."
   ]
  },
  {
   "cell_type": "code",
   "execution_count": null,
   "id": "77b423dc",
   "metadata": {},
   "outputs": [],
   "source": [
    "scalar.shape"
   ]
  },
  {
   "cell_type": "code",
   "execution_count": null,
   "id": "ca6cfbad",
   "metadata": {},
   "outputs": [],
   "source": [
    "vector.shape"
   ]
  },
  {
   "cell_type": "code",
   "execution_count": null,
   "id": "88cd77f9",
   "metadata": {},
   "outputs": [],
   "source": [
    "# Matris olarak (2 x 2 şeklinde) bir tensör.\n",
    "MATRIX = torch.tensor([[7, 8],\n",
    "                      [9, 10]])\n",
    "MATRIX\n"
   ]
  },
  {
   "cell_type": "code",
   "execution_count": null,
   "id": "7b18f264",
   "metadata": {},
   "outputs": [],
   "source": [
    "MATRIX.ndim"
   ]
  },
  {
   "cell_type": "markdown",
   "id": "2d8455b2",
   "metadata": {},
   "source": [
    "Kolay bir şekilde matris içindeki elemanlara ulaşabiliriz. Örneğin birinci satır ikinci sütundaki veriye aşağıdaki gibi ulaşırız."
   ]
  },
  {
   "cell_type": "code",
   "execution_count": null,
   "id": "191fc392",
   "metadata": {},
   "outputs": [],
   "source": [
    "MATRIX[0][1]"
   ]
  },
  {
   "cell_type": "markdown",
   "id": "3ba495a7",
   "metadata": {},
   "source": [
    "Yine __shape__ metotu ile matris içindeki veri sayısına ulaşırız."
   ]
  },
  {
   "cell_type": "code",
   "execution_count": null,
   "id": "7ff5a53c",
   "metadata": {},
   "outputs": [],
   "source": [
    "MATRIX.shape"
   ]
  },
  {
   "cell_type": "code",
   "execution_count": null,
   "id": "0ae4246e",
   "metadata": {},
   "outputs": [],
   "source": [
    "# 3 Boyutlu bir tensör tanımı. 3 x 3 x 3 şeklinde olacak şekilde bir tanım.\n",
    "TENSOR = torch.tensor([[[1, 2, 3],\n",
    "                        [4, 5, 6],\n",
    "                        [7, 8, 9]],\n",
    "                        [[10, 11, 12],\n",
    "                        [10, 11, 12],\n",
    "                        [11, 12, 13]],\n",
    "                        [[14, 15, 16],\n",
    "                        [17, 18, 19],\n",
    "                        [20, 21, 22]]])\n"
   ]
  },
  {
   "cell_type": "code",
   "execution_count": null,
   "id": "40f94e2a",
   "metadata": {},
   "outputs": [],
   "source": [
    "TENSOR.shape"
   ]
  },
  {
   "cell_type": "code",
   "execution_count": null,
   "id": "b08921d2",
   "metadata": {},
   "outputs": [],
   "source": [
    "TENSOR.ndim"
   ]
  },
  {
   "cell_type": "markdown",
   "id": "6be97661",
   "metadata": {},
   "source": [
    "Örneğin 12 verisini yazdırmaya çalışalım."
   ]
  },
  {
   "cell_type": "code",
   "execution_count": null,
   "id": "6f9ec54c",
   "metadata": {},
   "outputs": [],
   "source": [
    "TENSOR[1][2][1] # 2. matris 3. satır 2. sutun olarak aldık."
   ]
  },
  {
   "cell_type": "markdown",
   "id": "1ff9bfcc",
   "metadata": {},
   "source": [
    "Burada dikkat edilmesi gereken bir durum ise __skaler ve vektör değişken adlandırmaları küçük harf__ ile yapılırken __matris ve n-boyutlu tensör değişkenlerinin adlandırmaları ise büyük harfler__ ile yapılmaktadır."
   ]
  },
  {
   "cell_type": "markdown",
   "id": "0236294f",
   "metadata": {},
   "source": [
    "## Rastgele (Random) Kullanılan Tensörler"
   ]
  },
  {
   "cell_type": "markdown",
   "id": "f13fc2ed",
   "metadata": {},
   "source": [
    "Sinir ağlarında (neural networks) yapılan çalışmalar çok sayıda rastgele sayı içeren tensörleri, daha iyi veri temsillerini (represent) öğrenmek için doğru sayı verilerine ayarlamaktır.  "
   ]
  },
  {
   "cell_type": "markdown",
   "id": "5f9b437b",
   "metadata": {},
   "source": [
    "__Akış şu şekildedir;__"
   ]
  },
  {
   "cell_type": "markdown",
   "id": "f4c645c7",
   "metadata": {},
   "source": [
    "Rastgele sayılar --> Veri (Görüntü, metin vb. tensörleri.) --> Rastgele sayılar güncellenir. --> Veri --> Rastgele sayılar güncellenir."
   ]
  },
  {
   "cell_type": "markdown",
   "id": "1e53d632",
   "metadata": {},
   "source": [
    "__(2, 3) boyutunda rastgele bir tensör oluşturalım.__"
   ]
  },
  {
   "cell_type": "markdown",
   "id": "a4ac2a24",
   "metadata": {},
   "source": [
    "Bunun için şu adresten faydalanılır: https://pytorch.org/docs/stable/generated/torch.rand.html"
   ]
  },
  {
   "cell_type": "code",
   "execution_count": null,
   "id": "361ea12c",
   "metadata": {},
   "outputs": [],
   "source": [
    "rand_tensor = torch.rand(2, 3)"
   ]
  },
  {
   "cell_type": "code",
   "execution_count": null,
   "id": "dda45394",
   "metadata": {},
   "outputs": [],
   "source": [
    "rand_tensor"
   ]
  },
  {
   "cell_type": "markdown",
   "id": "14edd7f7",
   "metadata": {},
   "source": [
    "2 satır ve 3 sütundan oluşan rastgele bir tensör oluşturuldu. Tensörün boyutunu aşağıdaki gibi kontrol edebiliriz."
   ]
  },
  {
   "cell_type": "code",
   "execution_count": null,
   "id": "3c7dc77b",
   "metadata": {},
   "outputs": [],
   "source": [
    "rand_tensor.ndim"
   ]
  },
  {
   "cell_type": "markdown",
   "id": "8f2cbfa9",
   "metadata": {},
   "source": [
    "__3 boyutlu rastgele bir tensörü aşağıda oluşturalım.__"
   ]
  },
  {
   "cell_type": "code",
   "execution_count": null,
   "id": "ffbf9b4e",
   "metadata": {},
   "outputs": [],
   "source": [
    "rand_3d_tensor = torch.rand(2, 3, 4)"
   ]
  },
  {
   "cell_type": "code",
   "execution_count": null,
   "id": "62ff9216",
   "metadata": {},
   "outputs": [],
   "source": [
    "rand_3d_tensor"
   ]
  },
  {
   "cell_type": "markdown",
   "id": "f69db49a",
   "metadata": {},
   "source": [
    "Bu tensör ile ilgili bilgileri aşağıdaki gibi alabiliriz."
   ]
  },
  {
   "cell_type": "code",
   "execution_count": null,
   "id": "7afe74ed",
   "metadata": {},
   "outputs": [],
   "source": [
    "rand_3d_tensor.ndim"
   ]
  },
  {
   "cell_type": "code",
   "execution_count": null,
   "id": "2f96a66d",
   "metadata": {},
   "outputs": [],
   "source": [
    "rand_3d_tensor.shape"
   ]
  },
  {
   "cell_type": "markdown",
   "id": "b5bb1cb7",
   "metadata": {},
   "source": [
    "__Bir görüntü(image) tensörüne benzer tensör oluşturalım. Bu tensör 3 boyutlu olmalıdır. Renk kanalları (R, G, B) , yükseklik (height), genişlik (width) değerlerinin büyüklükleri tensörün şeklini belirler.__"
   ]
  },
  {
   "cell_type": "code",
   "execution_count": null,
   "id": "79e92fca",
   "metadata": {},
   "outputs": [],
   "source": [
    "rand_image_tensor = torch.rand(size=(3, 224, 224))"
   ]
  },
  {
   "cell_type": "code",
   "execution_count": null,
   "id": "f7b2c239",
   "metadata": {},
   "outputs": [],
   "source": [
    "rand_image_tensor.shape"
   ]
  },
  {
   "cell_type": "code",
   "execution_count": null,
   "id": "88be9400",
   "metadata": {},
   "outputs": [],
   "source": [
    "rand_image_tensor.ndim"
   ]
  },
  {
   "cell_type": "markdown",
   "id": "9702a7d7",
   "metadata": {},
   "source": [
    "## Sıfır ya da Birlerden Oluşan Tensörleri Oluşturmak"
   ]
  },
  {
   "cell_type": "markdown",
   "id": "f6d13414",
   "metadata": {},
   "source": [
    "Makine öğrenmesi uygulamalarını oluşturmada bu şekilde olan tensörleri kullanmak, bunları değiştirmek ve geri döndürmek gerekebilir. Örneğin; bir görüntü verisi manipüle edilirken orijinal görüntüye dokunmadan bu verinin değerleri manipüle edilerek ilk başta sıfırlardan oluşan tensör içerisine kayıt edilir ve bu değer döndürülür."
   ]
  },
  {
   "cell_type": "markdown",
   "id": "ecfbcf4d",
   "metadata": {},
   "source": [
    "__Sıfırlardan oluşan bir tensörü aşağıdaki gibi oluşturalım.__"
   ]
  },
  {
   "cell_type": "code",
   "execution_count": null,
   "id": "d82350c7",
   "metadata": {},
   "outputs": [],
   "source": [
    "zeros_tensor = torch.zeros(size=(2, 3))\n",
    "zeros_tensor"
   ]
  },
  {
   "cell_type": "code",
   "execution_count": null,
   "id": "587b451e",
   "metadata": {},
   "outputs": [],
   "source": [
    "zeros_tensor * rand_tensor # İki tensörün çarpımı."
   ]
  },
  {
   "cell_type": "markdown",
   "id": "dad9d3c3",
   "metadata": {},
   "source": [
    "__Birlerden oluşan tensörü aşağıdaki gibi oluşturalım.__"
   ]
  },
  {
   "cell_type": "code",
   "execution_count": null,
   "id": "2e887e45",
   "metadata": {},
   "outputs": [],
   "source": [
    "ones_tensor = torch.ones(size=(2, 3))\n",
    "ones_tensor"
   ]
  },
  {
   "cell_type": "code",
   "execution_count": null,
   "id": "07230963",
   "metadata": {},
   "outputs": [],
   "source": [
    "ones_tensor * rand_tensor"
   ]
  },
  {
   "cell_type": "markdown",
   "id": "ac51a9b5",
   "metadata": {},
   "source": [
    "Oluşan tensörlerin veri tiplerine aşağıdaki gibi bakabiliriz."
   ]
  },
  {
   "cell_type": "code",
   "execution_count": null,
   "id": "0c87fd90",
   "metadata": {},
   "outputs": [],
   "source": [
    "ones_tensor.dtype"
   ]
  },
  {
   "cell_type": "markdown",
   "id": "ff91bbaf",
   "metadata": {},
   "source": [
    "## Tensörleri Belirli Bir Aralıkta Oluşturmak"
   ]
  },
  {
   "cell_type": "code",
   "execution_count": null,
   "id": "e5553008",
   "metadata": {},
   "outputs": [],
   "source": [
    "torch.arange(0, 5)"
   ]
  },
  {
   "cell_type": "code",
   "execution_count": null,
   "id": "62113a5e",
   "metadata": {},
   "outputs": [],
   "source": [
    "one_to_ten_tensor = torch.arange(1, 11)\n",
    "one_to_ten_tensor"
   ]
  },
  {
   "cell_type": "markdown",
   "id": "8df1757b",
   "metadata": {},
   "source": [
    "Tensör elemanları arasında adım aralığı aşağıdaki gibi eklenebilir."
   ]
  },
  {
   "cell_type": "code",
   "execution_count": null,
   "id": "928a179b",
   "metadata": {},
   "outputs": [],
   "source": [
    "increased_tensor = torch.arange(start = 1, end = 1001, step = 125)\n",
    "increased_tensor"
   ]
  },
  {
   "cell_type": "markdown",
   "id": "8736758b",
   "metadata": {},
   "source": [
    "__Burada dikkat edilmesi gereken end parametresi değerinin dahil edilmediğidir.__"
   ]
  },
  {
   "cell_type": "markdown",
   "id": "f889124f",
   "metadata": {},
   "source": [
    "__Belirli bir tensöre göre sıfırlardan oluşan tensörü oluşturalım.__"
   ]
  },
  {
   "cell_type": "code",
   "execution_count": null,
   "id": "b2e38817",
   "metadata": {},
   "outputs": [],
   "source": [
    "tensor_zeros = torch.zeros_like(input = increased_tensor)\n",
    "tensor_zeros"
   ]
  },
  {
   "cell_type": "markdown",
   "id": "50946a41",
   "metadata": {},
   "source": [
    "Aynı şekilde birlerden oluşan tensörü de oluşturalım."
   ]
  },
  {
   "cell_type": "code",
   "execution_count": null,
   "id": "30869578",
   "metadata": {
    "scrolled": true
   },
   "outputs": [],
   "source": [
    "tensor_ones = torch.ones_like(input = increased_tensor)\n",
    "tensor_ones"
   ]
  },
  {
   "cell_type": "markdown",
   "id": "83a3df5f",
   "metadata": {},
   "source": [
    "## Tensör Veri Tipleri"
   ]
  },
  {
   "cell_type": "code",
   "execution_count": 2,
   "id": "355f2d86",
   "metadata": {},
   "outputs": [],
   "source": [
    "# Float 32 veri tipinde tensör oluşturmak.\n",
    "float_32_tensor = torch.tensor([1.0,2.0,3.0], dtype=None)"
   ]
  },
  {
   "cell_type": "code",
   "execution_count": 3,
   "id": "c80b2832",
   "metadata": {},
   "outputs": [
    {
     "data": {
      "text/plain": [
       "tensor([1., 2., 3.])"
      ]
     },
     "execution_count": 3,
     "metadata": {},
     "output_type": "execute_result"
    }
   ],
   "source": [
    "float_32_tensor"
   ]
  },
  {
   "cell_type": "code",
   "execution_count": 4,
   "id": "b888d977",
   "metadata": {},
   "outputs": [
    {
     "data": {
      "text/plain": [
       "torch.float32"
      ]
     },
     "execution_count": 4,
     "metadata": {},
     "output_type": "execute_result"
    }
   ],
   "source": [
    "float_32_tensor.dtype"
   ]
  },
  {
   "cell_type": "code",
   "execution_count": 5,
   "id": "bd7991c4",
   "metadata": {},
   "outputs": [],
   "source": [
    "# Float 16 veri tipinde tensör oluşturmak.\n",
    "float_16_tensor = torch.tensor([4.0, 5.0, 6.0], dtype = torch.float16)"
   ]
  },
  {
   "cell_type": "code",
   "execution_count": 6,
   "id": "3722da5b",
   "metadata": {},
   "outputs": [
    {
     "data": {
      "text/plain": [
       "tensor([4., 5., 6.], dtype=torch.float16)"
      ]
     },
     "execution_count": 6,
     "metadata": {},
     "output_type": "execute_result"
    }
   ],
   "source": [
    "float_16_tensor"
   ]
  },
  {
   "cell_type": "code",
   "execution_count": 7,
   "id": "2effa29c",
   "metadata": {},
   "outputs": [
    {
     "data": {
      "text/plain": [
       "torch.float16"
      ]
     },
     "execution_count": 7,
     "metadata": {},
     "output_type": "execute_result"
    }
   ],
   "source": [
    "float_16_tensor.dtype  "
   ]
  },
  {
   "cell_type": "markdown",
   "id": "0ae11b63",
   "metadata": {},
   "source": [
    "Görüldüğü üzere bir tensör varsayılan olarak float 32 tipinde oluşturulur. 16, 32 vb. değerin hafızada tutulma uzunluğunu (detayını) belirten bit uzunluğudur. Daha ayrıntılı bilgi almak için şu adresi inceleyebiliriz: https://pytorch.org/docs/stable/tensors.html"
   ]
  },
  {
   "cell_type": "markdown",
   "id": "b7550b24",
   "metadata": {},
   "source": [
    "Daha az yer kaplayan veriler ile daha hızlı hesaplama yapılabilir."
   ]
  },
  {
   "cell_type": "markdown",
   "id": "1a70f55a",
   "metadata": {},
   "source": [
    "Tensör veri tipleri PyTorch ya da Derin öğrenme (deep learning) ile çalışırken karşılaşacağımız 3 ana hata başlıklarından biridir. Bu hatalar aşağıdaki gibi olabilir."
   ]
  },
  {
   "cell_type": "markdown",
   "id": "fb7010fe",
   "metadata": {},
   "source": [
    "1. Tensors not right datatype --> Tensörler doğru veri tipinde değil.\n",
    "2. Tensors not right shape --> Tensörler doğru şekilde değil.\n",
    "3. Tensors not on the right device --> Tensörler doğru donanımda değil."
   ]
  },
  {
   "cell_type": "markdown",
   "id": "63f6c512",
   "metadata": {},
   "source": [
    "Tensörü oluştururken kullanılan diğer önemli iki parametre olan __device__ ve __required_grad__ aşağıdaki gibi tanımlanabilir."
   ]
  },
  {
   "cell_type": "code",
   "execution_count": 13,
   "id": "0594515e",
   "metadata": {},
   "outputs": [],
   "source": [
    "my_tensor = torch.tensor([1, 2, 3],\n",
    "                         dtype = None,\n",
    "                         device = \"cuda\", # Tensörün üzerinde oluşacağı donanım. (cuda, cpu vb.)\n",
    "                         requires_grad = False) # Gradyanların kullanılması gerekiyor ise True geçilir.  "
   ]
  },
  {
   "cell_type": "markdown",
   "id": "040028c3",
   "metadata": {},
   "source": [
    "Float 32 tipinde bir tensörü aşağıdaki gibi float 16 tipinde bir tensöre çevirelim."
   ]
  },
  {
   "cell_type": "code",
   "execution_count": 14,
   "id": "b0c0c4dd",
   "metadata": {},
   "outputs": [
    {
     "data": {
      "text/plain": [
       "tensor([1., 2., 3.], dtype=torch.float16)"
      ]
     },
     "execution_count": 14,
     "metadata": {},
     "output_type": "execute_result"
    }
   ],
   "source": [
    "float_16_tensor = float_32_tensor.type(torch.float16) # torch.half da yazılabilirdi.\n",
    "float_16_tensor"
   ]
  },
  {
   "cell_type": "markdown",
   "id": "aa6f10af",
   "metadata": {},
   "source": [
    "Yukarıda da bahsettiğimiz gibi 16 ya da 32 bit uzunlukları verilerin hafızada tutulma uzunluğunu ya da detayını belirler. Bununla ilgili daha fazla bilgi almak için şu adrese bakabiliriz: https://en.wikipedia.org/wiki/Precision_(computer_science)"
   ]
  },
  {
   "cell_type": "markdown",
   "id": "09606404",
   "metadata": {},
   "source": [
    "int tipinde bir tensör ile float tipinde bir tensörü aşağıdaki gibi çarpabiliriz."
   ]
  },
  {
   "cell_type": "code",
   "execution_count": 15,
   "id": "c53938e1",
   "metadata": {},
   "outputs": [
    {
     "data": {
      "text/plain": [
       "tensor([1, 2, 3])"
      ]
     },
     "execution_count": 15,
     "metadata": {},
     "output_type": "execute_result"
    }
   ],
   "source": [
    "int_32_tensor = torch.tensor([1, 2, 3], dtype = torch.long)\n",
    "int_32_tensor"
   ]
  },
  {
   "cell_type": "code",
   "execution_count": 16,
   "id": "ed65b76f",
   "metadata": {},
   "outputs": [
    {
     "data": {
      "text/plain": [
       "tensor([1., 4., 9.], dtype=torch.float16)"
      ]
     },
     "execution_count": 16,
     "metadata": {},
     "output_type": "execute_result"
    }
   ],
   "source": [
    "int_32_tensor * float_16_tensor"
   ]
  },
  {
   "cell_type": "markdown",
   "id": "a7190f66",
   "metadata": {},
   "source": [
    "## Tensör Bilgilerini Almak"
   ]
  },
  {
   "cell_type": "markdown",
   "id": "0c97094f",
   "metadata": {},
   "source": [
    "Bunlar yukarıda bahsedilen, aşağıda tekrar edilen hatalar için faydalıdır."
   ]
  },
  {
   "cell_type": "markdown",
   "id": "36099408",
   "metadata": {},
   "source": [
    "1. Tensors not right datatype --> Tensörler doğru veri tipinde değil. --> tensor.dtype\n",
    "2. Tensors not right shape --> Tensörler doğru şekilde değil. --> tensor.shape\n",
    "3. Tensors not on the right device --> Tensörler doğru donanımda değil. --> tensor.device"
   ]
  },
  {
   "cell_type": "code",
   "execution_count": 18,
   "id": "a9db2d08",
   "metadata": {},
   "outputs": [
    {
     "data": {
      "text/plain": [
       "tensor([1, 3, 5, 7, 9])"
      ]
     },
     "execution_count": 18,
     "metadata": {},
     "output_type": "execute_result"
    }
   ],
   "source": [
    "one_tensor = torch.arange(1, 11, step = 2)\n",
    "one_tensor"
   ]
  },
  {
   "cell_type": "code",
   "execution_count": 21,
   "id": "98df1350",
   "metadata": {},
   "outputs": [
    {
     "name": "stdout",
     "output_type": "stream",
     "text": [
      "tensor([1, 3, 5, 7, 9])\n",
      "Tensörün veri tipi: torch.int64\n",
      "Tensörün şekli: torch.Size([5])\n",
      "Tensör donanımı: cpu\n"
     ]
    }
   ],
   "source": [
    "# Tensör ile ilgili bazı bilgiler.\n",
    "print(one_tensor)\n",
    "print(f\"Tensörün veri tipi: {one_tensor.dtype}\")\n",
    "print(f\"Tensörün şekli: {one_tensor.shape}\")\n",
    "print(f\"Tensör donanımı: {one_tensor.device}\")"
   ]
  },
  {
   "cell_type": "markdown",
   "id": "a1710650",
   "metadata": {},
   "source": [
    "__Not:__ long veri tipi int64 tipine eşittir."
   ]
  },
  {
   "cell_type": "markdown",
   "id": "16e3b24e",
   "metadata": {},
   "source": [
    "## Tensörleri Değiştirmek (Tensör Operasyonları)"
   ]
  },
  {
   "cell_type": "markdown",
   "id": "c0c9d4df",
   "metadata": {},
   "source": [
    "Belirli işlemler aşağıdaki gibidir. Bir sinir ağı örüntüleri yakalamak için aşağıdaki işlemlerin bir kombinasyonu ile tensörleri optimize eder."
   ]
  },
  {
   "cell_type": "markdown",
   "id": "c1e7bdfd",
   "metadata": {},
   "source": [
    "* Ekleme (Addition)\n",
    "* Çıkarma (Subtraction)\n",
    "* Çarpma (Multiplication)\n",
    "* Bölme (Division)\n",
    "* Matris Çarpımı  (Matrix Multiplication)"
   ]
  },
  {
   "cell_type": "code",
   "execution_count": 4,
   "id": "9d62aa2b",
   "metadata": {},
   "outputs": [
    {
     "data": {
      "text/plain": [
       "tensor([20, 21, 22])"
      ]
     },
     "execution_count": 4,
     "metadata": {},
     "output_type": "execute_result"
    }
   ],
   "source": [
    "# Tensöre (her bir elemanına) 15 ekleyelim.\n",
    "tensor = torch.tensor([5, 6, 7])\n",
    "tensor + 15"
   ]
  },
  {
   "cell_type": "code",
   "execution_count": 5,
   "id": "158ee86c",
   "metadata": {},
   "outputs": [
    {
     "data": {
      "text/plain": [
       "tensor([50, 60, 70])"
      ]
     },
     "execution_count": 5,
     "metadata": {},
     "output_type": "execute_result"
    }
   ],
   "source": [
    "# Tensörü (her bir elemanını) 10 ile çarpalım.\n",
    "tensor * 10"
   ]
  },
  {
   "cell_type": "code",
   "execution_count": 6,
   "id": "d709318d",
   "metadata": {},
   "outputs": [
    {
     "data": {
      "text/plain": [
       "tensor([-5, -4, -3])"
      ]
     },
     "execution_count": 6,
     "metadata": {},
     "output_type": "execute_result"
    }
   ],
   "source": [
    "# Tensörden (her bir elemanından) 20 çıkarılım.\n",
    "tensor - 10"
   ]
  },
  {
   "cell_type": "markdown",
   "id": "dd0f0b0f",
   "metadata": {},
   "source": [
    "Operatörler (+, -, *) yerine PyTorch içerisindeki fonksiyonları da kullanabiliriz. Aşağıdaki örnekleri inceleyelim."
   ]
  },
  {
   "cell_type": "code",
   "execution_count": 8,
   "id": "bbffe4da",
   "metadata": {},
   "outputs": [
    {
     "data": {
      "text/plain": [
       "tensor([20, 21, 22])"
      ]
     },
     "execution_count": 8,
     "metadata": {},
     "output_type": "execute_result"
    }
   ],
   "source": [
    "torch.add(tensor, 15)"
   ]
  },
  {
   "cell_type": "code",
   "execution_count": 13,
   "id": "f3d842e5",
   "metadata": {},
   "outputs": [
    {
     "data": {
      "text/plain": [
       "tensor([50, 60, 70])"
      ]
     },
     "execution_count": 13,
     "metadata": {},
     "output_type": "execute_result"
    }
   ],
   "source": [
    "torch.mul(tensor, 10)"
   ]
  },
  {
   "cell_type": "markdown",
   "id": "eb09578a",
   "metadata": {},
   "source": [
    "#### Matris Çarpımı (Matrix Multiplication) "
   ]
  },
  {
   "cell_type": "markdown",
   "id": "9a845b55",
   "metadata": {},
   "source": [
    "Derin öğrenme (deep learning) ve sinir ağlarında çarpımı (multiplication) aşağıdaki gibi iki şekilde ele alabiliriz. "
   ]
  },
  {
   "cell_type": "markdown",
   "id": "bd32e237",
   "metadata": {},
   "source": [
    "* Eleman tabanlı (element-wise) çarpım.\n",
    "* Nokta çarpımı (dot production) ile matris çarpımı."
   ]
  },
  {
   "cell_type": "markdown",
   "id": "cf1de431",
   "metadata": {},
   "source": [
    "Detaylı bilgi için şu adrese bakabiliriz: https://www.mathsisfun.com/algebra/matrix-multiplying.html"
   ]
  },
  {
   "cell_type": "code",
   "execution_count": 15,
   "id": "5914f6b4",
   "metadata": {},
   "outputs": [
    {
     "name": "stdout",
     "output_type": "stream",
     "text": [
      "tensor([5, 6, 7])  *  tensor([5, 6, 7])\n",
      "Eşittir: tensor([25, 36, 49])\n"
     ]
    }
   ],
   "source": [
    "# Eleman tabanlı yaklaşım.\n",
    "print(tensor, \" * \", tensor)\n",
    "print(f\"Eşittir: {tensor * tensor}\")"
   ]
  },
  {
   "cell_type": "code",
   "execution_count": 17,
   "id": "a2fef46b",
   "metadata": {},
   "outputs": [
    {
     "data": {
      "text/plain": [
       "tensor(110)"
      ]
     },
     "execution_count": 17,
     "metadata": {},
     "output_type": "execute_result"
    }
   ],
   "source": [
    "torch.matmul(tensor, tensor) # 5 * 5 + 6 * 6 + 7 * 7 = 110"
   ]
  },
  {
   "cell_type": "markdown",
   "id": "5f07580c",
   "metadata": {},
   "source": [
    "Yukarıdaki işlem çarpım sonucu çıkan değerlerin toplamını vermektedir."
   ]
  },
  {
   "cell_type": "markdown",
   "id": "20719ee6",
   "metadata": {},
   "source": [
    "__Aşağıda yukarıda yaptığımız işlemlerin zaman açısından karşılaştırmasını yapalım.__"
   ]
  },
  {
   "cell_type": "code",
   "execution_count": 18,
   "id": "45ba9d61",
   "metadata": {},
   "outputs": [
    {
     "name": "stdout",
     "output_type": "stream",
     "text": [
      "tensor(110)\n",
      "CPU times: user 1.95 ms, sys: 255 µs, total: 2.21 ms\n",
      "Wall time: 8.03 ms\n"
     ]
    }
   ],
   "source": [
    "%%time\n",
    "value = 0\n",
    "for i in range(len(tensor)):\n",
    "    value += tensor[i] * tensor[i]\n",
    "\n",
    "print(value)"
   ]
  },
  {
   "cell_type": "code",
   "execution_count": 19,
   "id": "15fb6820",
   "metadata": {},
   "outputs": [
    {
     "name": "stdout",
     "output_type": "stream",
     "text": [
      "CPU times: user 747 µs, sys: 0 ns, total: 747 µs\n",
      "Wall time: 451 µs\n"
     ]
    },
    {
     "data": {
      "text/plain": [
       "tensor(110)"
      ]
     },
     "execution_count": 19,
     "metadata": {},
     "output_type": "execute_result"
    }
   ],
   "source": [
    "%%time\n",
    "torch.matmul(tensor, tensor)"
   ]
  },
  {
   "cell_type": "markdown",
   "id": "2dc7b623",
   "metadata": {},
   "source": [
    "Görüldüğü üzere __PyTorch matmul__ fonksiyonu mikrosaniye seviyesinde yaparken __for__ döngüsü ile yaptğımız sezgisel yaklaşım çok milisaniye seviyesinde daha yavaş çalışmaktadır. Çok daha fazla veriye sahip tensörlerde bu süre daha da uzayacaktır. Bu nedenle PyTorch bize performans yönünden de fayda sağlar."
   ]
  }
 ],
 "metadata": {
  "kernelspec": {
   "display_name": "Python 3 (ipykernel)",
   "language": "python",
   "name": "python3"
  },
  "language_info": {
   "codemirror_mode": {
    "name": "ipython",
    "version": 3
   },
   "file_extension": ".py",
   "mimetype": "text/x-python",
   "name": "python",
   "nbconvert_exporter": "python",
   "pygments_lexer": "ipython3",
   "version": "3.9.13"
  }
 },
 "nbformat": 4,
 "nbformat_minor": 5
}
