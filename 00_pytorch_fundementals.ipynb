{
 "cells": [
  {
   "cell_type": "markdown",
   "id": "e0937fb2",
   "metadata": {},
   "source": [
    "__PyTorch for Deep Learning in 2023: Zero To Mastery (Udemy) kaynağından çalışırken alınan notlardır.__"
   ]
  },
  {
   "cell_type": "markdown",
   "id": "90d0a883",
   "metadata": {},
   "source": [
    "## PyTorch Nedir?"
   ]
  },
  {
   "cell_type": "markdown",
   "id": "80c97891",
   "metadata": {},
   "source": [
    "Popüler açık kaynak derin öğrenme / makine öğrenmesi çatısıdır (framework). GPU üzerinde çalışabilecek Python ile yazılmış derin öğrenme uygulamaları çalıştırabiliriz. Tesla, Microsoft, OpenAI gibi şirketler kullanır. "
   ]
  },
  {
   "cell_type": "markdown",
   "id": "aa09d6ff",
   "metadata": {},
   "source": [
    "## PyTorch Neden  Kullanılır?"
   ]
  },
  {
   "cell_type": "markdown",
   "id": "18aa0b9a",
   "metadata": {},
   "source": [
    "Makine öğrenmesinin gücünden yararlanarak çok zor problemleri çözebilecek imkanı sağlar. Robotik, tarım, sağlık vb. birçok alanda PyTorch kullanılabilir. Bilgisayar görü, doğal dil işleme vb. birçok yaklaşım üzerinde çözüm sağlar. "
   ]
  },
  {
   "cell_type": "markdown",
   "id": "a387786a",
   "metadata": {},
   "source": [
    "## GPU (Grafik İşlem Birimi) ve TPU (Tensör İşlem Birimi)"
   ]
  },
  {
   "cell_type": "markdown",
   "id": "0610501c",
   "metadata": {},
   "source": [
    "Yüksek işlem gücü isteyen derin öğrenme algoritmalarını GPU üzerinde çalıştırabiliriz. Burada NVIDIA tarafından sağlanan CUDA kullanılır."
   ]
  },
  {
   "cell_type": "markdown",
   "id": "43ba59bb",
   "metadata": {},
   "source": [
    "TPU ise GPU'dan farklı olarak makine öğrenmesine özel amaçla geliştirilmiş bir yapıdır."
   ]
  },
  {
   "cell_type": "markdown",
   "id": "8c897ef8",
   "metadata": {},
   "source": [
    "## Tensör Nedir?"
   ]
  },
  {
   "cell_type": "markdown",
   "id": "9752eb0a",
   "metadata": {},
   "source": [
    "Daha önceden bahsettiğimiz gibi sinir ağlarına çok çeşitli (görüntü, metin, ses vb.) veriler kendi hali ile değil nümerik halinde verilirler. Bu şekilde sinir ağlarının verileri sayısal giriş olarak aldığı ve yine sonucunda sonuç olarak ürettiği sayısal yapılara tensör denir. Tensörler vektör, matris vb. yapıda olabilirler.  "
   ]
  },
  {
   "cell_type": "markdown",
   "id": "b5429bc1",
   "metadata": {},
   "source": [
    "## Çalışma Akışı"
   ]
  },
  {
   "cell_type": "markdown",
   "id": "c2bd4a38",
   "metadata": {},
   "source": [
    "1. Temel PyTorch bilgisi ve temelleri (tensör ve tensör operasyonları.)\n",
    "2. Veri ön işleme (Tensörler üzerinde veriler.)\n",
    "3. Önceden eğitilmiş derin öğrenme modellerini kullanma.\n",
    "4. Veri ile model uydurma (fitting) (Örüntüleri öğrenme - learning patterns.)\n",
    "5. Öğrenilen örüntüleri kullanarak bir model ile tahmin üretme.\n",
    "6. Model tahminlerini değerlendirme (evaluating).\n",
    "7. Modelleri kaydetme ve yükleme.\n",
    "8. Özel (custom) veri üzerinde eğitilmiş bir model kullanarak tahmin yapma. "
   ]
  },
  {
   "cell_type": "markdown",
   "id": "bf166c63",
   "metadata": {},
   "source": [
    "## PyTorch Çalışma Akışı"
   ]
  },
  {
   "cell_type": "markdown",
   "id": "ef258cea",
   "metadata": {},
   "source": [
    "1. Verileri hazırla (Tensörler ile ifade et.)\n",
    "2. Önceden eğitilmiş bir model oluşturma veya seçme (build or pick.)\n",
    "    2.1 Bir kayıp fonksiyonu (loss function) veya iyileştirici seçme (pick).\n",
    "    2.2 Bir eğitim döngüsü oluşturma.\n",
    "3. Modeli veriye uydurma (fitting) ve bir tahmin yapma.\n",
    "4. Modeli değerlendirme.\n",
    "5. Deneysel olarak geliştirme (improve).\n",
    "6. Eğitilen modeli kaydetme ve tekrar yükleme (reload)."
   ]
  },
  {
   "cell_type": "markdown",
   "id": "370528ba",
   "metadata": {},
   "source": [
    "## Alıştırmalar ve Faydalı Kaynaklar"
   ]
  },
  {
   "cell_type": "markdown",
   "id": "c5a5f851",
   "metadata": {},
   "source": [
    "Ek çalışmalar için __learnpytorch.io__ adresinden faydalanılabilir."
   ]
  },
  {
   "cell_type": "markdown",
   "id": "454b968d",
   "metadata": {},
   "source": [
    "__https://github.com/mrdbourke/pytorch-deep-learning__ adresinden içerik ile ilgili etkileşime geçilebilir."
   ]
  },
  {
   "cell_type": "markdown",
   "id": "e6a0d2a8",
   "metadata": {},
   "source": [
    "En önemli adres bu çalışmanın da üzerine tasarlandığı pytorch resmi adresi __pytorch.org__ adresi ve forum platformlarıdır."
   ]
  },
  {
   "cell_type": "markdown",
   "id": "689757a7",
   "metadata": {},
   "source": [
    "Daha kolay şekilde Google Colab üzerinde PyTorch uygulamaları çalıştırabiliriz ya da yerel makinemizi de kullanabiliriz. Burada linux / ubuntu kullanılarak çalışmalar yerel bilgisayarımızda gerçekleştirilecektir."
   ]
  },
  {
   "cell_type": "markdown",
   "id": "1d9620ca",
   "metadata": {},
   "source": [
    "Kullanacğımız kütüphaneleri aşağıda import edilmiştir."
   ]
  },
  {
   "cell_type": "code",
   "execution_count": null,
   "id": "342a075e",
   "metadata": {},
   "outputs": [],
   "source": [
    "import torch # PyTorch\n",
    "import pandas as pd\n",
    "import numpy as np\n",
    "import matplotlib.pyplot as plt\n",
    "print(torch.__version__)"
   ]
  },
  {
   "cell_type": "markdown",
   "id": "3a2e419f",
   "metadata": {},
   "source": [
    "CUDA, NVIDIA tarafından oluşturulan algoritmaların GPU üzerinde çalışmasını sağlayan teknolojidir. "
   ]
  },
  {
   "cell_type": "markdown",
   "id": "0c4712eb",
   "metadata": {},
   "source": [
    "## PyTorch ile Tensor Yapılarına Giriş"
   ]
  },
  {
   "cell_type": "markdown",
   "id": "644a4519",
   "metadata": {},
   "source": [
    "#### Tensör Oluşturma"
   ]
  },
  {
   "cell_type": "code",
   "execution_count": null,
   "id": "60d81e47",
   "metadata": {},
   "outputs": [],
   "source": [
    "# skaler (Basit bir değer.) bir tensör.\n",
    "scalar = torch.tensor(7)\n",
    "scalar"
   ]
  },
  {
   "cell_type": "code",
   "execution_count": null,
   "id": "db487ba5",
   "metadata": {},
   "outputs": [],
   "source": [
    "print(type(scalar))"
   ]
  },
  {
   "cell_type": "markdown",
   "id": "03640925",
   "metadata": {},
   "source": [
    "__torch.Tensor__, tek bir veri tipinin elemanlarını içeren çok boyutlu matristir."
   ]
  },
  {
   "cell_type": "markdown",
   "id": "36fa0fa8",
   "metadata": {},
   "source": [
    "Tensörün boyutu aşağıdaki gibi __ndim__ metotu ile alınabilir."
   ]
  },
  {
   "cell_type": "code",
   "execution_count": null,
   "id": "8c1a1b54",
   "metadata": {},
   "outputs": [],
   "source": [
    "scalar.ndim"
   ]
  },
  {
   "cell_type": "code",
   "execution_count": null,
   "id": "724c00c1",
   "metadata": {},
   "outputs": [],
   "source": [
    "# Python int tipinde tensör'ü geri almak.\n",
    "num = scalar.item()\n",
    "print(num)\n",
    "print(type(num))"
   ]
  },
  {
   "cell_type": "code",
   "execution_count": null,
   "id": "9de81e8e",
   "metadata": {},
   "outputs": [],
   "source": [
    "# vektör (Yönü olan sayısal büyüklük.) bir tensör.\n",
    "vector = torch.tensor([3, 3])\n",
    "vector"
   ]
  },
  {
   "cell_type": "code",
   "execution_count": null,
   "id": "904e8b53",
   "metadata": {},
   "outputs": [],
   "source": [
    "print(type(vector)) # 7. satır ile aynı sonuç alınır."
   ]
  },
  {
   "cell_type": "code",
   "execution_count": null,
   "id": "d2f2a0ba",
   "metadata": {},
   "outputs": [],
   "source": [
    "# Vektörün boyutu.\n",
    "vector.ndim"
   ]
  },
  {
   "cell_type": "markdown",
   "id": "09b1549e",
   "metadata": {},
   "source": [
    "__shape__ metotu ile de bilgi alınır."
   ]
  },
  {
   "cell_type": "code",
   "execution_count": null,
   "id": "77b423dc",
   "metadata": {},
   "outputs": [],
   "source": [
    "scalar.shape"
   ]
  },
  {
   "cell_type": "code",
   "execution_count": null,
   "id": "ca6cfbad",
   "metadata": {},
   "outputs": [],
   "source": [
    "vector.shape"
   ]
  },
  {
   "cell_type": "code",
   "execution_count": null,
   "id": "88cd77f9",
   "metadata": {},
   "outputs": [],
   "source": [
    "# Matris olarak (2 x 2 şeklinde) bir tensör.\n",
    "MATRIX = torch.tensor([[7, 8],\n",
    "                      [9, 10]])\n",
    "MATRIX\n"
   ]
  },
  {
   "cell_type": "code",
   "execution_count": null,
   "id": "7b18f264",
   "metadata": {},
   "outputs": [],
   "source": [
    "MATRIX.ndim"
   ]
  },
  {
   "cell_type": "markdown",
   "id": "2d8455b2",
   "metadata": {},
   "source": [
    "Kolay bir şekilde matris içindeki elemanlara ulaşabiliriz. Örneğin birinci satır ikinci sütundaki veriye aşağıdaki gibi ulaşırız."
   ]
  },
  {
   "cell_type": "code",
   "execution_count": null,
   "id": "191fc392",
   "metadata": {},
   "outputs": [],
   "source": [
    "MATRIX[0][1]"
   ]
  },
  {
   "cell_type": "markdown",
   "id": "3ba495a7",
   "metadata": {},
   "source": [
    "Yine __shape__ metotu ile matris içindeki veri sayısına ulaşırız."
   ]
  },
  {
   "cell_type": "code",
   "execution_count": null,
   "id": "7ff5a53c",
   "metadata": {},
   "outputs": [],
   "source": [
    "MATRIX.shape"
   ]
  },
  {
   "cell_type": "code",
   "execution_count": null,
   "id": "0ae4246e",
   "metadata": {},
   "outputs": [],
   "source": [
    "# 3 Boyutlu bir tensör tanımı. 3 x 3 x 3 şeklinde olacak şekilde bir tanım.\n",
    "TENSOR = torch.tensor([[[1, 2, 3],\n",
    "                        [4, 5, 6],\n",
    "                        [7, 8, 9]],\n",
    "                        [[10, 11, 12],\n",
    "                        [10, 11, 12],\n",
    "                        [11, 12, 13]],\n",
    "                        [[14, 15, 16],\n",
    "                        [17, 18, 19],\n",
    "                        [20, 21, 22]]])\n"
   ]
  },
  {
   "cell_type": "code",
   "execution_count": null,
   "id": "40f94e2a",
   "metadata": {},
   "outputs": [],
   "source": [
    "TENSOR.shape"
   ]
  },
  {
   "cell_type": "code",
   "execution_count": null,
   "id": "b08921d2",
   "metadata": {},
   "outputs": [],
   "source": [
    "TENSOR.ndim"
   ]
  },
  {
   "cell_type": "markdown",
   "id": "6be97661",
   "metadata": {},
   "source": [
    "Örneğin 12 verisini yazdırmaya çalışalım."
   ]
  },
  {
   "cell_type": "code",
   "execution_count": null,
   "id": "6f9ec54c",
   "metadata": {},
   "outputs": [],
   "source": [
    "TENSOR[1][2][1] # 2. matris 3. satır 2. sutun olarak aldık."
   ]
  },
  {
   "cell_type": "markdown",
   "id": "1ff9bfcc",
   "metadata": {},
   "source": [
    "Burada dikkat edilmesi gereken bir durum ise __skaler ve vektör değişken adlandırmaları küçük harf__ ile yapılırken __matris ve n-boyutlu tensör değişkenlerinin adlandırmaları ise büyük harfler__ ile yapılmaktadır."
   ]
  },
  {
   "cell_type": "markdown",
   "id": "0236294f",
   "metadata": {},
   "source": [
    "## Rastgele (Random) Kullanılan Tensörler"
   ]
  },
  {
   "cell_type": "markdown",
   "id": "f13fc2ed",
   "metadata": {},
   "source": [
    "Sinir ağlarında (neural networks) yapılan çalışmalar çok sayıda rastgele sayı içeren tensörleri, daha iyi veri temsillerini (represent) öğrenmek için doğru sayı verilerine ayarlamaktır.  "
   ]
  },
  {
   "cell_type": "markdown",
   "id": "5f9b437b",
   "metadata": {},
   "source": [
    "__Akış şu şekildedir;__"
   ]
  },
  {
   "cell_type": "markdown",
   "id": "f4c645c7",
   "metadata": {},
   "source": [
    "Rastgele sayılar --> Veri (Görüntü, metin vb. tensörleri.) --> Rastgele sayılar güncellenir. --> Veri --> Rastgele sayılar güncellenir."
   ]
  },
  {
   "cell_type": "markdown",
   "id": "1e53d632",
   "metadata": {},
   "source": [
    "__(2, 3) boyutunda rastgele bir tensör oluşturalım.__"
   ]
  },
  {
   "cell_type": "markdown",
   "id": "a4ac2a24",
   "metadata": {},
   "source": [
    "Bunun için şu adresten faydalanılır: https://pytorch.org/docs/stable/generated/torch.rand.html"
   ]
  },
  {
   "cell_type": "code",
   "execution_count": null,
   "id": "361ea12c",
   "metadata": {},
   "outputs": [],
   "source": [
    "rand_tensor = torch.rand(2, 3)"
   ]
  },
  {
   "cell_type": "code",
   "execution_count": null,
   "id": "dda45394",
   "metadata": {},
   "outputs": [],
   "source": [
    "rand_tensor"
   ]
  },
  {
   "cell_type": "markdown",
   "id": "14edd7f7",
   "metadata": {},
   "source": [
    "2 satır ve 3 sütundan oluşan rastgele bir tensör oluşturuldu. Tensörün boyutunu aşağıdaki gibi kontrol edebiliriz."
   ]
  },
  {
   "cell_type": "code",
   "execution_count": null,
   "id": "3c7dc77b",
   "metadata": {},
   "outputs": [],
   "source": [
    "rand_tensor.ndim"
   ]
  },
  {
   "cell_type": "markdown",
   "id": "8f2cbfa9",
   "metadata": {},
   "source": [
    "__3 boyutlu rastgele bir tensörü aşağıda oluşturalım.__"
   ]
  },
  {
   "cell_type": "code",
   "execution_count": null,
   "id": "ffbf9b4e",
   "metadata": {},
   "outputs": [],
   "source": [
    "rand_3d_tensor = torch.rand(2, 3, 4)"
   ]
  },
  {
   "cell_type": "code",
   "execution_count": null,
   "id": "62ff9216",
   "metadata": {},
   "outputs": [],
   "source": [
    "rand_3d_tensor"
   ]
  },
  {
   "cell_type": "markdown",
   "id": "f69db49a",
   "metadata": {},
   "source": [
    "Bu tensör ile ilgili bilgileri aşağıdaki gibi alabiliriz."
   ]
  },
  {
   "cell_type": "code",
   "execution_count": null,
   "id": "7afe74ed",
   "metadata": {},
   "outputs": [],
   "source": [
    "rand_3d_tensor.ndim"
   ]
  },
  {
   "cell_type": "code",
   "execution_count": null,
   "id": "2f96a66d",
   "metadata": {},
   "outputs": [],
   "source": [
    "rand_3d_tensor.shape"
   ]
  },
  {
   "cell_type": "markdown",
   "id": "b5bb1cb7",
   "metadata": {},
   "source": [
    "__Bir görüntü(image) tensörüne benzer tensör oluşturalım. Bu tensör 3 boyutlu olmalıdır. Renk kanalları (R, G, B) , yükseklik (height), genişlik (width) değerlerinin büyüklükleri tensörün şeklini belirler.__"
   ]
  },
  {
   "cell_type": "code",
   "execution_count": null,
   "id": "79e92fca",
   "metadata": {},
   "outputs": [],
   "source": [
    "rand_image_tensor = torch.rand(size=(3, 224, 224))"
   ]
  },
  {
   "cell_type": "code",
   "execution_count": null,
   "id": "f7b2c239",
   "metadata": {},
   "outputs": [],
   "source": [
    "rand_image_tensor.shape"
   ]
  },
  {
   "cell_type": "code",
   "execution_count": null,
   "id": "88be9400",
   "metadata": {},
   "outputs": [],
   "source": [
    "rand_image_tensor.ndim"
   ]
  },
  {
   "cell_type": "markdown",
   "id": "9702a7d7",
   "metadata": {},
   "source": [
    "## Sıfır ya da Birlerden Oluşan Tensörleri Oluşturmak"
   ]
  },
  {
   "cell_type": "markdown",
   "id": "f6d13414",
   "metadata": {},
   "source": [
    "Makine öğrenmesi uygulamalarını oluşturmada bu şekilde olan tensörleri kullanmak, bunları değiştirmek ve geri döndürmek gerekebilir. Örneğin; bir görüntü verisi manipüle edilirken orijinal görüntüye dokunmadan bu verinin değerleri manipüle edilerek ilk başta sıfırlardan oluşan tensör içerisine kayıt edilir ve bu değer döndürülür."
   ]
  },
  {
   "cell_type": "markdown",
   "id": "ecfbcf4d",
   "metadata": {},
   "source": [
    "__Sıfırlardan oluşan bir tensörü aşağıdaki gibi oluşturalım.__"
   ]
  },
  {
   "cell_type": "code",
   "execution_count": null,
   "id": "d82350c7",
   "metadata": {},
   "outputs": [],
   "source": [
    "zeros_tensor = torch.zeros(size=(2, 3))\n",
    "zeros_tensor"
   ]
  },
  {
   "cell_type": "code",
   "execution_count": null,
   "id": "587b451e",
   "metadata": {},
   "outputs": [],
   "source": [
    "zeros_tensor * rand_tensor # İki tensörün çarpımı."
   ]
  },
  {
   "cell_type": "markdown",
   "id": "dad9d3c3",
   "metadata": {},
   "source": [
    "__Birlerden oluşan tensörü aşağıdaki gibi oluşturalım.__"
   ]
  },
  {
   "cell_type": "code",
   "execution_count": null,
   "id": "2e887e45",
   "metadata": {},
   "outputs": [],
   "source": [
    "ones_tensor = torch.ones(size=(2, 3))\n",
    "ones_tensor"
   ]
  },
  {
   "cell_type": "code",
   "execution_count": null,
   "id": "07230963",
   "metadata": {},
   "outputs": [],
   "source": [
    "ones_tensor * rand_tensor"
   ]
  },
  {
   "cell_type": "markdown",
   "id": "ac51a9b5",
   "metadata": {},
   "source": [
    "Oluşan tensörlerin veri tiplerine aşağıdaki gibi bakabiliriz."
   ]
  },
  {
   "cell_type": "code",
   "execution_count": null,
   "id": "0c87fd90",
   "metadata": {},
   "outputs": [],
   "source": [
    "ones_tensor.dtype"
   ]
  },
  {
   "cell_type": "markdown",
   "id": "ff91bbaf",
   "metadata": {},
   "source": [
    "## Tensörleri Belirli Bir Aralıkta Oluşturmak"
   ]
  },
  {
   "cell_type": "code",
   "execution_count": null,
   "id": "e5553008",
   "metadata": {},
   "outputs": [],
   "source": [
    "torch.arange(0, 5)"
   ]
  },
  {
   "cell_type": "code",
   "execution_count": null,
   "id": "62113a5e",
   "metadata": {},
   "outputs": [],
   "source": [
    "one_to_ten_tensor = torch.arange(1, 11)\n",
    "one_to_ten_tensor"
   ]
  },
  {
   "cell_type": "markdown",
   "id": "8df1757b",
   "metadata": {},
   "source": [
    "Tensör elemanları arasında adım aralığı aşağıdaki gibi eklenebilir."
   ]
  },
  {
   "cell_type": "code",
   "execution_count": null,
   "id": "928a179b",
   "metadata": {},
   "outputs": [],
   "source": [
    "increased_tensor = torch.arange(start = 1, end = 1001, step = 125)\n",
    "increased_tensor"
   ]
  },
  {
   "cell_type": "markdown",
   "id": "8736758b",
   "metadata": {},
   "source": [
    "__Burada dikkat edilmesi gereken end parametresi değerinin dahil edilmediğidir.__"
   ]
  },
  {
   "cell_type": "markdown",
   "id": "f889124f",
   "metadata": {},
   "source": [
    "__Belirli bir tensöre göre sıfırlardan oluşan tensörü oluşturalım.__"
   ]
  },
  {
   "cell_type": "code",
   "execution_count": null,
   "id": "b2e38817",
   "metadata": {},
   "outputs": [],
   "source": [
    "tensor_zeros = torch.zeros_like(input = increased_tensor)\n",
    "tensor_zeros"
   ]
  },
  {
   "cell_type": "markdown",
   "id": "50946a41",
   "metadata": {},
   "source": [
    "Aynı şekilde birlerden oluşan tensörü de oluşturalım."
   ]
  },
  {
   "cell_type": "code",
   "execution_count": null,
   "id": "30869578",
   "metadata": {
    "scrolled": true
   },
   "outputs": [],
   "source": [
    "tensor_ones = torch.ones_like(input = increased_tensor)\n",
    "tensor_ones"
   ]
  },
  {
   "cell_type": "markdown",
   "id": "83a3df5f",
   "metadata": {},
   "source": [
    "## Tensör Veri Tipleri"
   ]
  },
  {
   "cell_type": "code",
   "execution_count": null,
   "id": "355f2d86",
   "metadata": {},
   "outputs": [],
   "source": [
    "# Float 32 veri tipinde tensör oluşturmak.\n",
    "float_32_tensor = torch.tensor([1.0,2.0,3.0], dtype=None)"
   ]
  },
  {
   "cell_type": "code",
   "execution_count": null,
   "id": "c80b2832",
   "metadata": {},
   "outputs": [],
   "source": [
    "float_32_tensor"
   ]
  },
  {
   "cell_type": "code",
   "execution_count": null,
   "id": "b888d977",
   "metadata": {},
   "outputs": [],
   "source": [
    "float_32_tensor.dtype"
   ]
  },
  {
   "cell_type": "code",
   "execution_count": null,
   "id": "bd7991c4",
   "metadata": {},
   "outputs": [],
   "source": [
    "# Float 16 veri tipinde tensör oluşturmak.\n",
    "float_16_tensor = torch.tensor([4.0, 5.0, 6.0], dtype = torch.float16)"
   ]
  },
  {
   "cell_type": "code",
   "execution_count": null,
   "id": "3722da5b",
   "metadata": {},
   "outputs": [],
   "source": [
    "float_16_tensor"
   ]
  },
  {
   "cell_type": "code",
   "execution_count": null,
   "id": "2effa29c",
   "metadata": {},
   "outputs": [],
   "source": [
    "float_16_tensor.dtype  "
   ]
  },
  {
   "cell_type": "markdown",
   "id": "0ae11b63",
   "metadata": {},
   "source": [
    "Görüldüğü üzere bir tensör varsayılan olarak float 32 tipinde oluşturulur. 16, 32 vb. değerin hafızada tutulma uzunluğunu (detayını) belirten bit uzunluğudur. Daha ayrıntılı bilgi almak için şu adresi inceleyebiliriz: https://pytorch.org/docs/stable/tensors.html"
   ]
  },
  {
   "cell_type": "markdown",
   "id": "b7550b24",
   "metadata": {},
   "source": [
    "Daha az yer kaplayan veriler ile daha hızlı hesaplama yapılabilir."
   ]
  },
  {
   "cell_type": "markdown",
   "id": "1a70f55a",
   "metadata": {},
   "source": [
    "Tensör veri tipleri PyTorch ya da Derin öğrenme (deep learning) ile çalışırken karşılaşacağımız 3 ana hata başlıklarından biridir. Bu hatalar aşağıdaki gibi olabilir."
   ]
  },
  {
   "cell_type": "markdown",
   "id": "fb7010fe",
   "metadata": {},
   "source": [
    "1. Tensors not right datatype --> Tensörler doğru veri tipinde değil.\n",
    "2. Tensors not right shape --> Tensörler doğru şekilde değil.\n",
    "3. Tensors not on the right device --> Tensörler doğru donanımda değil."
   ]
  },
  {
   "cell_type": "markdown",
   "id": "63f6c512",
   "metadata": {},
   "source": [
    "Tensörü oluştururken kullanılan diğer önemli iki parametre olan __device__ ve __required_grad__ aşağıdaki gibi tanımlanabilir."
   ]
  },
  {
   "cell_type": "code",
   "execution_count": null,
   "id": "0594515e",
   "metadata": {},
   "outputs": [],
   "source": [
    "my_tensor = torch.tensor([1, 2, 3],\n",
    "                         dtype = None,\n",
    "                         device = \"cuda\", # Tensörün üzerinde oluşacağı donanım. (cuda, cpu vb.)\n",
    "                         requires_grad = False) # Gradyanların kullanılması gerekiyor ise True geçilir.  "
   ]
  },
  {
   "cell_type": "markdown",
   "id": "040028c3",
   "metadata": {},
   "source": [
    "Float 32 tipinde bir tensörü aşağıdaki gibi float 16 tipinde bir tensöre çevirelim."
   ]
  },
  {
   "cell_type": "code",
   "execution_count": null,
   "id": "b0c0c4dd",
   "metadata": {},
   "outputs": [],
   "source": [
    "float_16_tensor = float_32_tensor.type(torch.float16) # torch.half da yazılabilirdi.\n",
    "float_16_tensor"
   ]
  },
  {
   "cell_type": "markdown",
   "id": "aa6f10af",
   "metadata": {},
   "source": [
    "Yukarıda da bahsettiğimiz gibi 16 ya da 32 bit uzunlukları verilerin hafızada tutulma uzunluğunu ya da detayını belirler. Bununla ilgili daha fazla bilgi almak için şu adrese bakabiliriz: https://en.wikipedia.org/wiki/Precision_(computer_science)"
   ]
  },
  {
   "cell_type": "markdown",
   "id": "09606404",
   "metadata": {},
   "source": [
    "int tipinde bir tensör ile float tipinde bir tensörü aşağıdaki gibi çarpabiliriz."
   ]
  },
  {
   "cell_type": "code",
   "execution_count": null,
   "id": "c53938e1",
   "metadata": {},
   "outputs": [],
   "source": [
    "int_32_tensor = torch.tensor([1, 2, 3], dtype = torch.long)\n",
    "int_32_tensor"
   ]
  },
  {
   "cell_type": "code",
   "execution_count": null,
   "id": "ed65b76f",
   "metadata": {},
   "outputs": [],
   "source": [
    "int_32_tensor * float_16_tensor"
   ]
  },
  {
   "cell_type": "markdown",
   "id": "a7190f66",
   "metadata": {},
   "source": [
    "## Tensör Bilgilerini Almak"
   ]
  },
  {
   "cell_type": "markdown",
   "id": "0c97094f",
   "metadata": {},
   "source": [
    "Bunlar yukarıda bahsedilen, aşağıda tekrar edilen hatalar için faydalıdır."
   ]
  },
  {
   "cell_type": "markdown",
   "id": "36099408",
   "metadata": {},
   "source": [
    "1. Tensors not right datatype --> Tensörler doğru veri tipinde değil. --> tensor.dtype\n",
    "2. Tensors not right shape --> Tensörler doğru şekilde değil. --> tensor.shape\n",
    "3. Tensors not on the right device --> Tensörler doğru donanımda değil. --> tensor.device"
   ]
  },
  {
   "cell_type": "code",
   "execution_count": null,
   "id": "a9db2d08",
   "metadata": {},
   "outputs": [],
   "source": [
    "one_tensor = torch.arange(1, 11, step = 2)\n",
    "one_tensor"
   ]
  },
  {
   "cell_type": "code",
   "execution_count": null,
   "id": "98df1350",
   "metadata": {},
   "outputs": [],
   "source": [
    "# Tensör ile ilgili bazı bilgiler.\n",
    "print(one_tensor)\n",
    "print(f\"Tensörün veri tipi: {one_tensor.dtype}\")\n",
    "print(f\"Tensörün şekli: {one_tensor.shape}\")\n",
    "print(f\"Tensör donanımı: {one_tensor.device}\")"
   ]
  },
  {
   "cell_type": "markdown",
   "id": "a1710650",
   "metadata": {},
   "source": [
    "__Not:__ long veri tipi int64 tipine eşittir."
   ]
  },
  {
   "cell_type": "markdown",
   "id": "16e3b24e",
   "metadata": {},
   "source": [
    "## Tensörleri Değiştirmek (Tensör Operasyonları)"
   ]
  },
  {
   "cell_type": "markdown",
   "id": "c0c9d4df",
   "metadata": {},
   "source": [
    "Belirli işlemler aşağıdaki gibidir. Bir sinir ağı örüntüleri yakalamak için aşağıdaki işlemlerin bir kombinasyonu ile tensörleri optimize eder."
   ]
  },
  {
   "cell_type": "markdown",
   "id": "c1e7bdfd",
   "metadata": {},
   "source": [
    "* Ekleme (Addition)\n",
    "* Çıkarma (Subtraction)\n",
    "* Çarpma (Multiplication)\n",
    "* Bölme (Division)\n",
    "* Matris Çarpımı  (Matrix Multiplication)"
   ]
  },
  {
   "cell_type": "code",
   "execution_count": null,
   "id": "9d62aa2b",
   "metadata": {},
   "outputs": [],
   "source": [
    "# Tensöre (her bir elemanına) 15 ekleyelim.\n",
    "tensor = torch.tensor([5, 6, 7])\n",
    "tensor + 15"
   ]
  },
  {
   "cell_type": "code",
   "execution_count": null,
   "id": "158ee86c",
   "metadata": {},
   "outputs": [],
   "source": [
    "# Tensörü (her bir elemanını) 10 ile çarpalım.\n",
    "tensor * 10"
   ]
  },
  {
   "cell_type": "code",
   "execution_count": null,
   "id": "d709318d",
   "metadata": {},
   "outputs": [],
   "source": [
    "# Tensörden (her bir elemanından) 20 çıkarılım.\n",
    "tensor - 10"
   ]
  },
  {
   "cell_type": "markdown",
   "id": "dd0f0b0f",
   "metadata": {},
   "source": [
    "Operatörler (+, -, *) yerine PyTorch içerisindeki fonksiyonları da kullanabiliriz. Aşağıdaki örnekleri inceleyelim."
   ]
  },
  {
   "cell_type": "code",
   "execution_count": null,
   "id": "bbffe4da",
   "metadata": {},
   "outputs": [],
   "source": [
    "torch.add(tensor, 15)"
   ]
  },
  {
   "cell_type": "code",
   "execution_count": null,
   "id": "f3d842e5",
   "metadata": {},
   "outputs": [],
   "source": [
    "torch.mul(tensor, 10)"
   ]
  },
  {
   "cell_type": "markdown",
   "id": "eb09578a",
   "metadata": {},
   "source": [
    "#### Matris Çarpımı (Matrix Multiplication) "
   ]
  },
  {
   "cell_type": "markdown",
   "id": "9a845b55",
   "metadata": {},
   "source": [
    "Derin öğrenme (deep learning) ve sinir ağlarında çarpımı (multiplication) aşağıdaki gibi iki şekilde ele alabiliriz. "
   ]
  },
  {
   "cell_type": "markdown",
   "id": "bd32e237",
   "metadata": {},
   "source": [
    "* Eleman tabanlı (element-wise) çarpım.\n",
    "* Nokta çarpımı (dot production) ile matris çarpımı."
   ]
  },
  {
   "cell_type": "markdown",
   "id": "cf1de431",
   "metadata": {},
   "source": [
    "Detaylı bilgi için şu adrese bakabiliriz: https://www.mathsisfun.com/algebra/matrix-multiplying.html"
   ]
  },
  {
   "cell_type": "code",
   "execution_count": null,
   "id": "5914f6b4",
   "metadata": {},
   "outputs": [],
   "source": [
    "# Eleman tabanlı yaklaşım.\n",
    "print(tensor, \" * \", tensor)\n",
    "print(f\"Eşittir: {tensor * tensor}\")"
   ]
  },
  {
   "cell_type": "code",
   "execution_count": null,
   "id": "a2fef46b",
   "metadata": {},
   "outputs": [],
   "source": [
    "torch.matmul(tensor, tensor) # 5 * 5 + 6 * 6 + 7 * 7 = 110"
   ]
  },
  {
   "cell_type": "markdown",
   "id": "5f07580c",
   "metadata": {},
   "source": [
    "Yukarıdaki işlem çarpım sonucu çıkan değerlerin toplamını vermektedir."
   ]
  },
  {
   "cell_type": "markdown",
   "id": "20719ee6",
   "metadata": {},
   "source": [
    "__Aşağıda yukarıda yaptığımız işlemlerin zaman açısından karşılaştırmasını yapalım.__"
   ]
  },
  {
   "cell_type": "code",
   "execution_count": null,
   "id": "45ba9d61",
   "metadata": {},
   "outputs": [],
   "source": [
    "%%time\n",
    "value = 0\n",
    "for i in range(len(tensor)):\n",
    "    value += tensor[i] * tensor[i]\n",
    "\n",
    "print(value)"
   ]
  },
  {
   "cell_type": "code",
   "execution_count": null,
   "id": "15fb6820",
   "metadata": {},
   "outputs": [],
   "source": [
    "%%time\n",
    "torch.matmul(tensor, tensor)"
   ]
  },
  {
   "cell_type": "markdown",
   "id": "2dc7b623",
   "metadata": {},
   "source": [
    "Görüldüğü üzere __PyTorch matmul__ fonksiyonu mikrosaniye seviyesinde çalışırken __for__ döngüsü ile yaptğımız sezgisel yaklaşım milisaniye seviyesinde daha yavaş çalışmaktadır. Çok daha fazla veriye sahip tensörlerde bu süre daha da uzayacaktır. Bu nedenle PyTorch bize performans yönünden de fayda sağlar."
   ]
  },
  {
   "cell_type": "markdown",
   "id": "8385568c",
   "metadata": {},
   "source": [
    "## Matris Çarpımı (Matrix Multiplication) İkinci Kısım  "
   ]
  },
  {
   "cell_type": "markdown",
   "id": "f6f751d4",
   "metadata": {},
   "source": [
    "Matris çarpımında önemli iki ana kural vardır:\n",
    "1. İç boyutlar (inner dimensions) eşleşmelidir. Yani (3, 2) @ (2, 3) ya da (5, 3) @ (3, 5) gibi bir çarpım olabilir. Burada @ matris çarpımı için kullanılacak sembollerden biridir. İç boyutlar ise 2 rakamlarıdır ve eşittir. \n",
    "2. Çarpım sonucu ortaya çıkan matrisin şekli dış boyutlardan oluşur. Örneğin (2, 3) @ (3, 2) sonucunda 2 x 2 şeklinde bir matris oluşur."
   ]
  },
  {
   "cell_type": "markdown",
   "id": "4aa194ef",
   "metadata": {},
   "source": [
    "Örneğin; aşağıdaki matmul fonksiyonu hata verecektir. Çünkü iç boyutlar 2 ve 3 eşit değildir."
   ]
  },
  {
   "cell_type": "code",
   "execution_count": null,
   "id": "ea45b01c",
   "metadata": {},
   "outputs": [],
   "source": [
    "torch.matmul(torch.rand(3, 2), torch.rand(3, 2))"
   ]
  },
  {
   "cell_type": "markdown",
   "id": "776f7447",
   "metadata": {},
   "source": [
    "Aşağıdaki çarpım ise 2 x 2 şeklinde matrisi verecek doğru bir çarpımdır."
   ]
  },
  {
   "cell_type": "code",
   "execution_count": null,
   "id": "dcd07040",
   "metadata": {},
   "outputs": [],
   "source": [
    "tensor_2_2 = torch.matmul(torch.rand(2, 3), torch.rand(3, 2))"
   ]
  },
  {
   "cell_type": "code",
   "execution_count": null,
   "id": "5be5e51b",
   "metadata": {},
   "outputs": [],
   "source": [
    "tensor_2_2.shape"
   ]
  },
  {
   "cell_type": "code",
   "execution_count": null,
   "id": "29455303",
   "metadata": {},
   "outputs": [],
   "source": [
    "tensor_2_2.ndim"
   ]
  },
  {
   "cell_type": "markdown",
   "id": "aace67fc",
   "metadata": {},
   "source": [
    "## Matris Çarpımı (Matrix Multiplication) Üçüncü Kısım"
   ]
  },
  {
   "cell_type": "markdown",
   "id": "6c1f9e69",
   "metadata": {},
   "source": [
    "__Derin öğrenmedeki yaygın hatalardan biri de şekil hatasıdır (shape error).__"
   ]
  },
  {
   "cell_type": "code",
   "execution_count": null,
   "id": "fad23514",
   "metadata": {},
   "outputs": [],
   "source": [
    "# Matris Çarpımında Şekil (Shape).\n",
    "tensor_a = torch.tensor([[1, 2],\n",
    "                         [3, 4],\n",
    "                         [5, 6]])"
   ]
  },
  {
   "cell_type": "code",
   "execution_count": null,
   "id": "49fd5f9a",
   "metadata": {},
   "outputs": [],
   "source": [
    "tensor_a.shape # 3 x 2 şeklinde olan matrisin şekil bilgisinin doğrulanması."
   ]
  },
  {
   "cell_type": "code",
   "execution_count": null,
   "id": "24742f22",
   "metadata": {},
   "outputs": [],
   "source": [
    "tensor_b = torch.tensor([[4, 5 , 6],\n",
    "                         [7, 8, 9],\n",
    "                         [10, 11, 12]])"
   ]
  },
  {
   "cell_type": "code",
   "execution_count": null,
   "id": "007723f0",
   "metadata": {},
   "outputs": [],
   "source": [
    "tensor_b.shape # 3 x 3 şeklinde olan matrisin şekil bilgisinin doğrulanması."
   ]
  },
  {
   "cell_type": "markdown",
   "id": "9010b7af",
   "metadata": {},
   "source": [
    "#### İki matrisi çarpmaya çalıştığımızda iç boyutlar eşit olmadığı için şekil hatasını (shape error) alırız. "
   ]
  },
  {
   "cell_type": "code",
   "execution_count": null,
   "id": "10574bc6",
   "metadata": {},
   "outputs": [],
   "source": [
    "# tensor_a @ tensor_b\n",
    "## torch.matmul(tensor_a, tensor_b)\n",
    "torch.mm(tensor_a, tensor_b) # matmul kısaltmasıdır."
   ]
  },
  {
   "cell_type": "markdown",
   "id": "3188bde1",
   "metadata": {},
   "source": [
    "#### Transpoz (transpose) işlemini kullanarak tensörleri değiştirir ve şekil hatalarını çözebiliriz."
   ]
  },
  {
   "cell_type": "markdown",
   "id": "45c07a41",
   "metadata": {},
   "source": [
    "Matris transpozu, verilen m x n şeklindeki matris tensörünün n x m şeklinde yazılmasıdır. Örnek uygulamayı aşağıda yapalım."
   ]
  },
  {
   "cell_type": "code",
   "execution_count": null,
   "id": "42fed368",
   "metadata": {},
   "outputs": [],
   "source": [
    "tensor_a = torch.tensor([[1, 2],\n",
    "                         [3, 4],\n",
    "                         [5, 6]])"
   ]
  },
  {
   "cell_type": "code",
   "execution_count": null,
   "id": "5619914e",
   "metadata": {},
   "outputs": [],
   "source": [
    "tensor_a, tensor_a.shape"
   ]
  },
  {
   "cell_type": "code",
   "execution_count": null,
   "id": "47cd0e2a",
   "metadata": {},
   "outputs": [],
   "source": [
    "tensor_a.T, tensor_a.T.shape"
   ]
  },
  {
   "cell_type": "markdown",
   "id": "b5b61d39",
   "metadata": {},
   "source": [
    "Görüldüğü üzere 3 x 2 şeklindeki tensor_a matrisin transpozu alınarak 2 x 3 şeklindeki matrise çevirebildik. "
   ]
  },
  {
   "cell_type": "markdown",
   "id": "5f2a16b4",
   "metadata": {},
   "source": [
    "tensor_a'nın transpoz edilmiş tensörünü ve tensor_b tensörlerini aşağıdaki gibi çarpabilir, ek olarak şekil bilgisini alabiliriz."
   ]
  },
  {
   "cell_type": "code",
   "execution_count": null,
   "id": "ee49d0fb",
   "metadata": {},
   "outputs": [],
   "source": [
    "torch.mm(tensor_a.T, tensor_b), torch.mm(tensor_a.T, tensor_b).shape "
   ]
  },
  {
   "cell_type": "markdown",
   "id": "9945f580",
   "metadata": {},
   "source": [
    "## Tensörlerde Toplam, Ortalama, Minumum ve Maksimum Değerleri Bulma ve Diğer İşlemler (Tensor Aggregation)"
   ]
  },
  {
   "cell_type": "code",
   "execution_count": null,
   "id": "d3e8a8bc",
   "metadata": {},
   "outputs": [],
   "source": [
    "# Bir tensör oluşturalım.\n",
    "x_tensor = torch.arange(0, 20, 2)\n",
    "x_tensor"
   ]
  },
  {
   "cell_type": "code",
   "execution_count": null,
   "id": "b493e400",
   "metadata": {},
   "outputs": [],
   "source": [
    "# Tensör içerisindeki minimum değeri iki farklı yol ile bulalım.\n",
    "torch.min(x_tensor), x_tensor.min() "
   ]
  },
  {
   "cell_type": "code",
   "execution_count": null,
   "id": "dcc95a66",
   "metadata": {},
   "outputs": [],
   "source": [
    "# Tensör içerisindeki maksimum değeri iki farklı yol ile bulalım.\n",
    "torch.max(x_tensor), x_tensor.max()"
   ]
  },
  {
   "cell_type": "markdown",
   "id": "dd82c7b3",
   "metadata": {},
   "source": [
    "#### Tensör ortalamasını bulalım."
   ]
  },
  {
   "cell_type": "markdown",
   "id": "d1348836",
   "metadata": {},
   "source": [
    "Ortalama için Tensör veri tipi float olmalıdır. İlk olarak tensör veri tipine bakalım."
   ]
  },
  {
   "cell_type": "code",
   "execution_count": null,
   "id": "ef8a416c",
   "metadata": {},
   "outputs": [],
   "source": [
    "x_tensor.dtype"
   ]
  },
  {
   "cell_type": "markdown",
   "id": "2fd93a18",
   "metadata": {},
   "source": [
    "int64(long) bilgisini aldık. Bu nedenle tensörü torch.mean() fonksiyonunun gerektirdiği üzere float tipinde belirterek ortalamayı aşağıdaki gibi iki farklı yol ile alırız."
   ]
  },
  {
   "cell_type": "code",
   "execution_count": null,
   "id": "4cb7c2f8",
   "metadata": {},
   "outputs": [],
   "source": [
    "torch.mean(x_tensor.type(torch.float32)), x_tensor.type(torch.float32).mean()"
   ]
  },
  {
   "cell_type": "code",
   "execution_count": null,
   "id": "4774b4d0",
   "metadata": {
    "scrolled": true
   },
   "outputs": [],
   "source": [
    "# Tensör toplamını iki farklı yol ile bulalım.\n",
    "torch.sum(x_tensor), x_tensor.sum()"
   ]
  },
  {
   "cell_type": "markdown",
   "id": "bf260618",
   "metadata": {},
   "source": [
    "### Konumsal Minimum ve Maksimum Değerleri Bulma;"
   ]
  },
  {
   "cell_type": "markdown",
   "id": "bd0dd49c",
   "metadata": {},
   "source": [
    "__argmin()__ ile tensör içerisindeki minimum değerin indeksi alınır."
   ]
  },
  {
   "cell_type": "code",
   "execution_count": null,
   "id": "7e8c109c",
   "metadata": {},
   "outputs": [],
   "source": [
    "x_tensor = torch.arange(1, 11, step = 2)"
   ]
  },
  {
   "cell_type": "code",
   "execution_count": null,
   "id": "4ac92927",
   "metadata": {
    "scrolled": true
   },
   "outputs": [],
   "source": [
    "x_tensor"
   ]
  },
  {
   "cell_type": "code",
   "execution_count": null,
   "id": "2e4eca39",
   "metadata": {},
   "outputs": [],
   "source": [
    "x_tensor.argmin() # 1 değerinin indeksi 0."
   ]
  },
  {
   "cell_type": "markdown",
   "id": "edfe6d8c",
   "metadata": {},
   "source": [
    "__argmax()__ ile tensör içerisindeki maksimum değerin indeksi alınır."
   ]
  },
  {
   "cell_type": "code",
   "execution_count": null,
   "id": "3a941ec4",
   "metadata": {},
   "outputs": [],
   "source": [
    "x_tensor.argmax() # 9 değerinin indeksi 4."
   ]
  },
  {
   "cell_type": "code",
   "execution_count": null,
   "id": "928bd763",
   "metadata": {},
   "outputs": [],
   "source": [
    "x_tensor[0], x_tensor[4]"
   ]
  },
  {
   "cell_type": "markdown",
   "id": "85a0125a",
   "metadata": {},
   "source": [
    "## Tensörleri Yeniden Şekillendirme (Reshaping), Görüntüleme (Viewing), İstifleme (Stacking), Sıkıştırma (Squeeze), Boyut ekleme (Unsquueze) ve Permute İşlemleri"
   ]
  },
  {
   "cell_type": "markdown",
   "id": "238ec7c0",
   "metadata": {},
   "source": [
    "1. Yeniden şekillendirme -bir tensörü başka şekile döndürme.\n",
    "2. Görüntüleme - Orijinal tensörü hafızada tutmak üzere tensörün bir şekil ile yeniden döndürülmesi.\n",
    "3. İstifleme - Üst üste ya da yan yana olacak şekilde tensörleri birleştirme.\n",
    "4. Sıkıştırma - tensörden bir boyutu çıkarma.\n",
    "5. Boyut ekleme - tensöre bir boyut ekleme.\n",
    "6. Yeniden düzenleme (Permute) işlemi - belirli bir şekilde izin verilen boyutlar ile girişin (input) görüntüsünü döndürme."
   ]
  },
  {
   "cell_type": "markdown",
   "id": "92e03084",
   "metadata": {},
   "source": [
    "#### Yeniden Şekillendirme"
   ]
  },
  {
   "cell_type": "code",
   "execution_count": null,
   "id": "a22cabb6",
   "metadata": {},
   "outputs": [],
   "source": [
    "# Bir tensör oluşturalım.\n",
    "x = torch.arange(1., 10.)"
   ]
  },
  {
   "cell_type": "code",
   "execution_count": null,
   "id": "de4c997d",
   "metadata": {},
   "outputs": [],
   "source": [
    "x"
   ]
  },
  {
   "cell_type": "code",
   "execution_count": null,
   "id": "d5c34762",
   "metadata": {},
   "outputs": [],
   "source": [
    "x.shape"
   ]
  },
  {
   "cell_type": "markdown",
   "id": "ec654a27",
   "metadata": {},
   "source": [
    "Bu tensörü aşağıdaki gibi 3 x 3 şeklinde 2 boyutlu hale getirebiliriz."
   ]
  },
  {
   "cell_type": "code",
   "execution_count": null,
   "id": "049ae004",
   "metadata": {},
   "outputs": [],
   "source": [
    "x_reshaped = x.reshape(3, 3)\n",
    "x_reshaped"
   ]
  },
  {
   "cell_type": "code",
   "execution_count": null,
   "id": "440f1467",
   "metadata": {},
   "outputs": [],
   "source": [
    "x_reshaped.ndim, x_reshaped.shape"
   ]
  },
  {
   "cell_type": "markdown",
   "id": "668e8d2b",
   "metadata": {},
   "source": [
    "#### Görüntüyü değiştirme (Orijinal tensörü değiştirmeden.)"
   ]
  },
  {
   "cell_type": "code",
   "execution_count": null,
   "id": "2bcc8093",
   "metadata": {},
   "outputs": [],
   "source": [
    "y = torch.arange(2., 22., step = 2)"
   ]
  },
  {
   "cell_type": "code",
   "execution_count": null,
   "id": "259a4d43",
   "metadata": {},
   "outputs": [],
   "source": [
    "y, y.shape, y.ndim"
   ]
  },
  {
   "cell_type": "code",
   "execution_count": null,
   "id": "99eb7e27",
   "metadata": {},
   "outputs": [],
   "source": [
    "z = y.view(2, 5)\n",
    "z, z.shape"
   ]
  },
  {
   "cell_type": "markdown",
   "id": "d6049319",
   "metadata": {},
   "source": [
    "Aşağıdaki işlem ile y tensörü verileri __view()__ ile iki boyutlu olarak z tensörü oluşturuldu. Burada __view__ içerisine geçilen parametrelerin  __y__ tensörü büyüklüğü ile uyumlu olduğuna ( 2 * 5 = 10) dikkat edilmelidir."
   ]
  },
  {
   "cell_type": "markdown",
   "id": "e9c7bc3d",
   "metadata": {},
   "source": [
    "Burada dikkat edilmesi gereken ise z tensöründe yapılacak olan değişikliğin y tensörünü de değiştireceğidir. İki tensör aynı hafızayı (memory) paylaşırlar. Aşağıda bir örnek verilmiştir."
   ]
  },
  {
   "cell_type": "code",
   "execution_count": null,
   "id": "4b92a46e",
   "metadata": {},
   "outputs": [],
   "source": [
    "z[:, 0] = 20\n",
    "z, y"
   ]
  },
  {
   "cell_type": "markdown",
   "id": "1aebd433",
   "metadata": {},
   "source": [
    "#### Tensörleri üst üste istifleme"
   ]
  },
  {
   "cell_type": "code",
   "execution_count": null,
   "id": "f75e4d9f",
   "metadata": {},
   "outputs": [],
   "source": [
    "y, y.ndim, y.shape"
   ]
  },
  {
   "cell_type": "code",
   "execution_count": null,
   "id": "d64445e0",
   "metadata": {},
   "outputs": [],
   "source": [
    "y_stacked = torch.stack([y, y, y, y], dim = 0)\n",
    "y_stacked, y_stacked.ndim, y_stacked.shape"
   ]
  },
  {
   "cell_type": "markdown",
   "id": "7a3a970c",
   "metadata": {},
   "source": [
    "__dim__ parametresini __1__ olarak geçtiğimizde ise aşağıdaki gibi y tensörünün her bir verisi için bir satır oluşturarak 10 x 4 şeklinde bir tensör oluştururuz. "
   ]
  },
  {
   "cell_type": "code",
   "execution_count": null,
   "id": "a7785d30",
   "metadata": {},
   "outputs": [],
   "source": [
    "y_stacked_2 = torch.stack([y, y, y, y], dim = 1)\n",
    "y_stacked_2, y_stacked_2.ndim, y_stacked_2.shape"
   ]
  },
  {
   "cell_type": "markdown",
   "id": "1433b8fa",
   "metadata": {},
   "source": [
    "#### Sıkıştırma işlemi (Squeeze)"
   ]
  },
  {
   "cell_type": "code",
   "execution_count": null,
   "id": "a2cbd8ea",
   "metadata": {},
   "outputs": [],
   "source": [
    "# Bir tensör oluşturalım.\n",
    "x = torch.arange(1., 10.)"
   ]
  },
  {
   "cell_type": "code",
   "execution_count": null,
   "id": "484479a8",
   "metadata": {},
   "outputs": [],
   "source": [
    "x_reshaped = x.reshape(1, 9)"
   ]
  },
  {
   "cell_type": "code",
   "execution_count": null,
   "id": "396dc6b2",
   "metadata": {},
   "outputs": [],
   "source": [
    "x_reshaped, x_reshaped.shape"
   ]
  },
  {
   "cell_type": "code",
   "execution_count": null,
   "id": "cb3502ae",
   "metadata": {},
   "outputs": [],
   "source": [
    "x_reshaped.squeeze(), x_reshaped.squeeze().shape"
   ]
  },
  {
   "cell_type": "markdown",
   "id": "70ae2e41",
   "metadata": {},
   "source": [
    "#### Print ile görselleştirme işlemi"
   ]
  },
  {
   "cell_type": "code",
   "execution_count": null,
   "id": "2ed9137c",
   "metadata": {},
   "outputs": [],
   "source": [
    "print(f\"Önceki tensör: {x_reshaped}\")\n",
    "print(f\"Önceki tensörün şekli: {x_reshaped.shape}\")\n",
    "\n",
    "# Tensörden bir boyutu çıkarma (sıkıştırma)\n",
    "x_squeezed = x_reshaped.squeeze()\n",
    "print(f\"\\nSıkıştırılmış tensör: {x_squeezed}\")\n",
    "print(f\"Sıkıştırılmış tensörün şekli: {x_squeezed.shape}\")"
   ]
  },
  {
   "cell_type": "markdown",
   "id": "5ed36fad",
   "metadata": {},
   "source": [
    "#### Boyut ekleme işleminin print ile görselleştirilmesi (Unsqueeze)"
   ]
  },
  {
   "cell_type": "code",
   "execution_count": null,
   "id": "e381fac3",
   "metadata": {},
   "outputs": [],
   "source": [
    "print(f\"Önceki tensör: {x_squeezed}\")\n",
    "print(f\"Önceki tensör şekli: {x_squeezed.shape}\")\n",
    "\n",
    "#Tensöre bir boyut ekleme.\n",
    "x_unsqueezed = x_squeezed.unsqueeze(dim = 0)\n",
    "print(f\"\\nYeni tensör: {x_unsqueezed}\")\n",
    "print(f\"Yeni tensör şekli: {x_unsqueezed.shape}\")"
   ]
  },
  {
   "cell_type": "markdown",
   "id": "8e5ff442",
   "metadata": {},
   "source": [
    "Kısaca bir önceki başlıktaki işlemin tersini yaparak boyut ekledik. __dim__ parametresi 0 geçildiği için 1 x 9 şeklinde bir tensör oluşturuldu. Parametre 1 olarak geçilseydi aşağıdaki gibi 9 x 1 şeklinde bir tensör oluşurdu."
   ]
  },
  {
   "cell_type": "code",
   "execution_count": null,
   "id": "45dc62d7",
   "metadata": {},
   "outputs": [],
   "source": [
    "x_unsqueezed_2 = x_squeezed.unsqueeze(dim = 1)\n",
    "print(f\"\\nYeni tensör: {x_unsqueezed_2}\")\n",
    "print(f\"Yeni tensör şekli: {x_unsqueezed_2.shape}\")"
   ]
  },
  {
   "cell_type": "markdown",
   "id": "8dbc126e",
   "metadata": {},
   "source": [
    "#### Yeniden Düzenleme (Permute) işlemi"
   ]
  },
  {
   "cell_type": "markdown",
   "id": "492c8e73",
   "metadata": {},
   "source": [
    "__torch.permute()__ belirli bir sırada hedef bir tensörün boyutlarını yeniden düzenler. Aşağıda görüntü (image) verisi için bir örnek gösterilmiştir."
   ]
  },
  {
   "cell_type": "code",
   "execution_count": null,
   "id": "710c5399",
   "metadata": {},
   "outputs": [],
   "source": [
    "x_original = torch.rand(size=(224, 224, 3)) # [height, width, colour_channels]"
   ]
  },
  {
   "cell_type": "code",
   "execution_count": null,
   "id": "a8c6e973",
   "metadata": {},
   "outputs": [],
   "source": [
    "# Orijinal tensörü eksen (boyut) sırasına göre yeniden düzenleme (reaarranged).\n",
    "x_permuted = x_original.permute(2, 0, 1) # 0 -> 1, 1 -> 2, 2 -> 0"
   ]
  },
  {
   "cell_type": "code",
   "execution_count": null,
   "id": "864fb754",
   "metadata": {},
   "outputs": [],
   "source": [
    "print(f\"Önceki tensör şekli: {x_original.shape}\") # [height, width, colour_channels]\n",
    "print(f\"Yeni tensör şekli: {x_permuted.shape}\") # [colour_channels, height, width] "
   ]
  },
  {
   "cell_type": "markdown",
   "id": "9b674209",
   "metadata": {},
   "source": [
    "Burada bir tensörde yapacağımız değişiklik diğer tensöre de yansır. Aşağıdaki bir örnekle doğrulayalım."
   ]
  },
  {
   "cell_type": "code",
   "execution_count": null,
   "id": "966012c9",
   "metadata": {},
   "outputs": [],
   "source": [
    "x_original[0, 0, 0]"
   ]
  },
  {
   "cell_type": "code",
   "execution_count": null,
   "id": "bd3d5385",
   "metadata": {},
   "outputs": [],
   "source": [
    "x_original[0, 0, 0] = 6646\n",
    "x_original[0, 0, 0], x_permuted[0, 0, 0]"
   ]
  },
  {
   "cell_type": "markdown",
   "id": "6782c19a",
   "metadata": {},
   "source": [
    "## İndeksleme (Tensörden bir veri seçimi)"
   ]
  },
  {
   "cell_type": "markdown",
   "id": "b65da337",
   "metadata": {},
   "source": [
    "PyTorch'daki indeksleme NumPy dizisindekine benzer."
   ]
  },
  {
   "cell_type": "code",
   "execution_count": null,
   "id": "d85962a4",
   "metadata": {},
   "outputs": [],
   "source": [
    "# Bir tensör oluşturalım.\n",
    "x_tensor = torch.arange(1, 10).reshape(1, 3, 3)"
   ]
  },
  {
   "cell_type": "code",
   "execution_count": null,
   "id": "2479b7f8",
   "metadata": {},
   "outputs": [],
   "source": [
    "x_tensor, x_tensor.shape, x_tensor.ndim"
   ]
  },
  {
   "cell_type": "markdown",
   "id": "f66e851b",
   "metadata": {},
   "source": [
    "#### Aşağıdaki örneklerin anlaşılması önemlidir."
   ]
  },
  {
   "cell_type": "code",
   "execution_count": null,
   "id": "91a26929",
   "metadata": {},
   "outputs": [],
   "source": [
    "x_tensor[0]"
   ]
  },
  {
   "cell_type": "code",
   "execution_count": null,
   "id": "74ca9b89",
   "metadata": {},
   "outputs": [],
   "source": [
    "x_tensor[0][0] # [1, 2, 3]"
   ]
  },
  {
   "cell_type": "code",
   "execution_count": null,
   "id": "1a377e14",
   "metadata": {},
   "outputs": [],
   "source": [
    "x_tensor[0][0][2], x_tensor[0, 0, 2] # 3, 3"
   ]
  },
  {
   "cell_type": "code",
   "execution_count": null,
   "id": "5f6183d7",
   "metadata": {},
   "outputs": [],
   "source": [
    "# 7 verisini alalım.\n",
    "x_tensor[0][2][0]"
   ]
  },
  {
   "cell_type": "markdown",
   "id": "0d822e59",
   "metadata": {},
   "source": [
    "__':'__ tensörde bulunan boyutun tüm verilerini alır. Aşağıdaki örnekleri inceleyelim."
   ]
  },
  {
   "cell_type": "code",
   "execution_count": null,
   "id": "1bddae66",
   "metadata": {},
   "outputs": [],
   "source": [
    "x_tensor[0, :, 1] # 2, 5, 8"
   ]
  },
  {
   "cell_type": "code",
   "execution_count": null,
   "id": "b3a8e6b9",
   "metadata": {},
   "outputs": [],
   "source": [
    "x_tensor[0, 1, :] # 4, 5, 6"
   ]
  },
  {
   "cell_type": "code",
   "execution_count": null,
   "id": "209593ee",
   "metadata": {},
   "outputs": [],
   "source": [
    "# 0 ve 1. boyuttaki tüm verileri alırken 2. boyuttaki sadece 1. indeksi alalım.\n",
    "x_tensor[:, :, 1] # 2, 5, 8"
   ]
  },
  {
   "cell_type": "code",
   "execution_count": null,
   "id": "f92304a8",
   "metadata": {},
   "outputs": [],
   "source": [
    "# 0. boyuttaki tüm verileri alırken 1 ve 2. boyuttaki sadece 1. indeksteki verileri alalım.\n",
    "x_tensor[:, 1, 1] # 5"
   ]
  },
  {
   "cell_type": "code",
   "execution_count": null,
   "id": "dc8a910b",
   "metadata": {},
   "outputs": [],
   "source": [
    "# 0 ve 1. boyuttaki 0. indeksi alırken 2. boyuttaki tüm veriler gelsin.\n",
    "x_tensor[0, 0, :] # 1, 2, 3"
   ]
  },
  {
   "cell_type": "code",
   "execution_count": null,
   "id": "0e77d324",
   "metadata": {},
   "outputs": [],
   "source": [
    "# 3, 6 ve 9 sonucunu alalım.\n",
    "print(x_tensor[:, :, 2])"
   ]
  },
  {
   "cell_type": "markdown",
   "id": "dcbd3678",
   "metadata": {},
   "source": [
    "## PyTorch Tensörleri ve NumPy"
   ]
  },
  {
   "cell_type": "markdown",
   "id": "087bacae",
   "metadata": {},
   "source": [
    "NumPy Python tabanlı popüler sayısal işlemler kütüphanesidir. PyTorch ve NumPy birlikte kullanılır. "
   ]
  },
  {
   "cell_type": "markdown",
   "id": "fdff681c",
   "metadata": {},
   "source": [
    "NumPy dizi (array) yapılarını PyTorch tensörlerine çevirmemiz gerekebilir ya da tersi işlem yapılabilir.\n",
    "1. NumPy verisi -> PyTorch Tensör - torch.from_numpy(ndarray)\n",
    "2. PyTorch tensör -> NumPy verisi - torch.Tensor.numpy()"
   ]
  },
  {
   "cell_type": "code",
   "execution_count": null,
   "id": "25215bed",
   "metadata": {},
   "outputs": [],
   "source": [
    "import torch\n",
    "import numpy as np\n",
    "\n",
    "arr = np.arange(1.0, 10.0)\n",
    "arr"
   ]
  },
  {
   "cell_type": "code",
   "execution_count": null,
   "id": "9fa7f3ae",
   "metadata": {},
   "outputs": [],
   "source": [
    "# NumPy dizisini (array) PyTorch tensörüne çevirme.\n",
    "tensor = torch.from_numpy(arr)"
   ]
  },
  {
   "cell_type": "code",
   "execution_count": null,
   "id": "fa2e2915",
   "metadata": {},
   "outputs": [],
   "source": [
    "tensor, arr"
   ]
  },
  {
   "cell_type": "markdown",
   "id": "61ce6d2f",
   "metadata": {},
   "source": [
    "Veri tipi bilgisini iki yapı için aşağıdaki gibi görüntüleriz. Dikkat edilmesi gereken varsayılan NumPy veri tipi __float64__ olarak verilir ve bu tensöre de yansır."
   ]
  },
  {
   "cell_type": "code",
   "execution_count": null,
   "id": "05b4bc66",
   "metadata": {},
   "outputs": [],
   "source": [
    "tensor.dtype, arr.dtype"
   ]
  },
  {
   "cell_type": "markdown",
   "id": "bf7e6c89",
   "metadata": {},
   "source": [
    "__NumPy verisinde bir değişiklik yaptığımızda bu tensörü etkilemeyecektir. Aşağıda bir örnek yapılmıştır.__"
   ]
  },
  {
   "cell_type": "code",
   "execution_count": null,
   "id": "45fa6fad",
   "metadata": {},
   "outputs": [],
   "source": [
    "arr = arr + 2\n",
    "arr, tensor"
   ]
  },
  {
   "cell_type": "code",
   "execution_count": null,
   "id": "8960e239",
   "metadata": {},
   "outputs": [],
   "source": [
    "# PyTorch tensörü NumPy dizisine çevirme.\n",
    "tensor = torch.ones(10)\n",
    "tensor"
   ]
  },
  {
   "cell_type": "code",
   "execution_count": null,
   "id": "040ff0eb",
   "metadata": {},
   "outputs": [],
   "source": [
    "numpy_tensor = tensor.numpy()\n",
    "numpy_tensor, numpy_tensor.dtype"
   ]
  },
  {
   "cell_type": "markdown",
   "id": "f21b7162",
   "metadata": {},
   "source": [
    "Görüldüğü üzere tensörün varsayılan veri tipi __float32__ NumPy verisine de yansıdı."
   ]
  },
  {
   "cell_type": "markdown",
   "id": "b7b8ce31",
   "metadata": {},
   "source": [
    "#### Aynı hafızayı paylaşmadıkları için öncekine benzer olarak tensör verisinde yapılan değişiklik NumPy verisine yansımayacaktır."
   ]
  },
  {
   "cell_type": "code",
   "execution_count": null,
   "id": "b0b6bc45",
   "metadata": {},
   "outputs": [],
   "source": [
    "tensor = tensor + 1\n",
    "numpy_tensor, tensor"
   ]
  },
  {
   "cell_type": "markdown",
   "id": "006715b7",
   "metadata": {},
   "source": [
    "## Yeniden Üretilebilirlik (Rastgele verilerden rastgele verilere bir döngü)"
   ]
  },
  {
   "cell_type": "markdown",
   "id": "181f0b00",
   "metadata": {},
   "source": [
    "Bu, makine öğrenmesinde önemli bir konudur. Bir sinir ağı öğrenme işlemini şu şekilde yapar;\n",
    "\n",
    "Rastgele veriler ile başla --> Tensör işlemleri --> Rastgele verileri güncelleme ve onların daha doğru veri temsilleri yapılmasının sağlanması --> bu işlemlerin tekrarı..."
   ]
  },
  {
   "cell_type": "code",
   "execution_count": null,
   "id": "c4b80b73",
   "metadata": {},
   "outputs": [],
   "source": [
    "torch.rand(2, 2) # Bu satırı her çalıştırmamızda farklı veriler ile tensör oluşur."
   ]
  },
  {
   "cell_type": "markdown",
   "id": "a12c17c9",
   "metadata": {},
   "source": [
    "Sinir ağlarındaki rastgeleliği azaltma. PyTorch ile __random seed__ kavramı. Bu kavram sadece PyTorch özelinde olmayıp yapılan şey rastgeleliği tatlandırmadır(flavour). Daha iyi anlamak için aşağıda bir örnek yapalım."
   ]
  },
  {
   "cell_type": "code",
   "execution_count": null,
   "id": "800e871a",
   "metadata": {},
   "outputs": [],
   "source": [
    "# Random iki tensör oluşturma.\n",
    "random_tensor_A = torch.rand(3, 4)\n",
    "random_tensor_B = torch.rand(3, 4)\n",
    "\n",
    "print(random_tensor_A)\n",
    "print(random_tensor_B)\n",
    "print(random_tensor_A == random_tensor_B) # False, False..."
   ]
  },
  {
   "cell_type": "markdown",
   "id": "434768ca",
   "metadata": {},
   "source": [
    "Yukarıdaki hücre her çalıştırmasında farklı rastgle tensörler verecektir. Aşağıda yine rastgele ancak yeniden üretilebilir tensörleri oluşturalım."
   ]
  },
  {
   "cell_type": "code",
   "execution_count": null,
   "id": "6a9d42e9",
   "metadata": {},
   "outputs": [],
   "source": [
    "# random seed kavramı.\n",
    "RANDOM_SEED = 42\n",
    "torch.manual_seed(RANDOM_SEED)\n",
    "random_tensor_C = torch.rand(3, 4)\n",
    "\n",
    "torch.manual_seed(RANDOM_SEED) # Her tensörü oluşturmadan önce çalıştırılmalıdır.\n",
    "random_tensor_D = torch.rand(3, 4)\n",
    "\n",
    "print(random_tensor_C)\n",
    "print(random_tensor_D)\n",
    "print(random_tensor_C == random_tensor_D) # True, True..."
   ]
  },
  {
   "cell_type": "markdown",
   "id": "cae063c3",
   "metadata": {},
   "source": [
    "Yeniden üretilebilirlik için ek kaynak adresi: https://pytorch.org/docs/stable/notes/randomness.html - https://en.wikipedia.org/wiki/Random_seed"
   ]
  },
  {
   "cell_type": "markdown",
   "id": "3bbd0e66",
   "metadata": {},
   "source": [
    "## PyTorch Üzerinde GPU Erişimine Farklı Yollar"
   ]
  },
  {
   "cell_type": "markdown",
   "id": "fedb2f98",
   "metadata": {},
   "source": [
    "Daha yüksek hesaplama için Tensörleri ve PyTorch nesnelerini GPU'lar üzerinde çalıştırma."
   ]
  },
  {
   "cell_type": "markdown",
   "id": "709a91cf",
   "metadata": {},
   "source": [
    "CUDA + NVIDIA + PyTorch ile GPU kullanarak daha hızlı hesaplama yapılabilir."
   ]
  },
  {
   "cell_type": "markdown",
   "id": "f224682e",
   "metadata": {},
   "source": [
    "1. Ücretsiz GPU erişimi için Google Colab kullanılabilir. Google Colab'ın ücretli seçenekleri de mevcuttur. \n",
    "2. Kendi bilgisayarımızdaki GPU kullanılabilir. Bununla alakalı faydalı bir yazı adresi: https://timdettmers.com/2020/09/07/which-gpu-for-deep-learning/\n",
    "3. Bulut bilişimi kullanmak: GCP, AWS ve Azure gibi servisler üzerindeki bilgisayarları kiralayarak onlara erişebiliriz. "
   ]
  },
  {
   "cell_type": "markdown",
   "id": "af8d6d0f",
   "metadata": {},
   "source": [
    "2 ve 3. seçenekler için ek olarak kurulum yapılması gerekmektedir. Bunun için PyTorch dokümantasyonundan yararlanılabilir. Adres: https://pytorch.org/get-started/locally/ "
   ]
  },
  {
   "cell_type": "markdown",
   "id": "8d62eb09",
   "metadata": {},
   "source": [
    "__Not: Burada yapılan çalışmalar Ubuntu 20.04 yerel bilgisayar üzerinde yapılmıştır.__"
   ]
  },
  {
   "cell_type": "code",
   "execution_count": 1,
   "id": "159e81d0",
   "metadata": {},
   "outputs": [
    {
     "name": "stdout",
     "output_type": "stream",
     "text": [
      "Wed Nov 16 19:04:40 2022       \n",
      "+-----------------------------------------------------------------------------+\n",
      "| NVIDIA-SMI 510.85.02    Driver Version: 510.85.02    CUDA Version: 11.6     |\n",
      "|-------------------------------+----------------------+----------------------+\n",
      "| GPU  Name        Persistence-M| Bus-Id        Disp.A | Volatile Uncorr. ECC |\n",
      "| Fan  Temp  Perf  Pwr:Usage/Cap|         Memory-Usage | GPU-Util  Compute M. |\n",
      "|                               |                      |               MIG M. |\n",
      "|===============================+======================+======================|\n",
      "|   0  NVIDIA GeForce ...  Off  | 00000000:01:00.0 Off |                  N/A |\n",
      "| N/A   32C    P0    N/A /  N/A |     10MiB /  6144MiB |      0%      Default |\n",
      "|                               |                      |                  N/A |\n",
      "+-------------------------------+----------------------+----------------------+\n",
      "                                                                               \n",
      "+-----------------------------------------------------------------------------+\n",
      "| Processes:                                                                  |\n",
      "|  GPU   GI   CI        PID   Type   Process name                  GPU Memory |\n",
      "|        ID   ID                                                   Usage      |\n",
      "|=============================================================================|\n",
      "|    0   N/A  N/A      1173      G   /usr/lib/xorg/Xorg                  4MiB |\n",
      "|    0   N/A  N/A      1957      G   /usr/lib/xorg/Xorg                  4MiB |\n",
      "+-----------------------------------------------------------------------------+\n"
     ]
    }
   ],
   "source": [
    "!nvidia-smi # GPU bilgisi alınır."
   ]
  },
  {
   "cell_type": "markdown",
   "id": "9b75d8d7",
   "metadata": {},
   "source": [
    "PyTorch ile de GPU erişimini aşağıdaki gibi kontrol ederiz. CUDA NVIDIA tarafından bize sunulan sayısal hesaplama yapabilmek GPU programlama arayüzüdür."
   ]
  },
  {
   "cell_type": "code",
   "execution_count": 3,
   "id": "62ec0e0b",
   "metadata": {},
   "outputs": [
    {
     "data": {
      "text/plain": [
       "True"
      ]
     },
     "execution_count": 3,
     "metadata": {},
     "output_type": "execute_result"
    }
   ],
   "source": [
    "import torch\n",
    "torch.cuda.is_available()"
   ]
  },
  {
   "cell_type": "markdown",
   "id": "d56736e9",
   "metadata": {},
   "source": [
    "PyTorch'un hem CPU hem de GPU üzerinde çalışabilmesinden dolayı cihaz seçimi için donanım agnostik kodunu (device agnostic code) ayarlama (setup) işlemi yapılabilir. Bunun için faydalı adres: https://pytorch.org/docs/stable/notes/cuda.html#best-practices\n",
    "\n",
    "Uygun ise GPU değil ise CPU çalışsın."
   ]
  },
  {
   "cell_type": "code",
   "execution_count": 6,
   "id": "0047fa3e",
   "metadata": {},
   "outputs": [
    {
     "data": {
      "text/plain": [
       "'cuda'"
      ]
     },
     "execution_count": 6,
     "metadata": {},
     "output_type": "execute_result"
    }
   ],
   "source": [
    "# Agnostik donanım kodunun ayarlanması.\n",
    "device = \"cuda\" if torch.cuda.is_available() else \"cpu\"\n",
    "device # BAsit şekilde, GPU erişimi yoksa CPU ayarlanır."
   ]
  },
  {
   "cell_type": "code",
   "execution_count": 8,
   "id": "17fb2310",
   "metadata": {},
   "outputs": [
    {
     "data": {
      "text/plain": [
       "1"
      ]
     },
     "execution_count": 8,
     "metadata": {},
     "output_type": "execute_result"
    }
   ],
   "source": [
    "# Donanımların sayısını sayma. \n",
    "# Şu aşamada olmasa bile bu işlemler uygulama deneyimi arttıkça biz kullanıcılar tarafından kullanılır.\n",
    "# Aynı uygulamada iki farklı model iki farklı GPU üzerinde çalışabilir.\n",
    "torch.cuda.device_count()"
   ]
  },
  {
   "cell_type": "markdown",
   "id": "023bf67b",
   "metadata": {},
   "source": [
    "## GPU ile Gerçek Deneyim: Tensörleri ya da Modelleri GPU Üzerine Yerleştirmek"
   ]
  },
  {
   "cell_type": "markdown",
   "id": "34760cf6",
   "metadata": {},
   "source": [
    "Bunu istememizdeki neden daha hızlı sayısal hesaplamadır. "
   ]
  },
  {
   "cell_type": "code",
   "execution_count": 12,
   "id": "5ae0ed4c",
   "metadata": {},
   "outputs": [
    {
     "name": "stdout",
     "output_type": "stream",
     "text": [
      "tensor([1, 2, 3]) cpu\n"
     ]
    }
   ],
   "source": [
    "# Bir tensör oluşturalım.\n",
    "tensor = torch.tensor([1, 2, 3], device = \"cpu\")\n",
    "# device parametresi girilmese bile varsayılan olarak cpu üzerinde çalışılır.\n",
    "\n",
    "# GPU üzerinde çalışmayan, CPU üzerinde çalışan bir tensör.\n",
    "print(tensor, tensor.device)"
   ]
  },
  {
   "cell_type": "code",
   "execution_count": 13,
   "id": "f7e19e9f",
   "metadata": {},
   "outputs": [
    {
     "data": {
      "text/plain": [
       "tensor([1, 2, 3], device='cuda:0')"
      ]
     },
     "execution_count": 13,
     "metadata": {},
     "output_type": "execute_result"
    }
   ],
   "source": [
    "# Uygunsa tensörü GPU üzerine alalım.\n",
    "tensor_on_gpu = tensor.to(device)\n",
    "tensor_on_gpu"
   ]
  },
  {
   "cell_type": "markdown",
   "id": "8464b5c8",
   "metadata": {},
   "source": [
    "Tek bir GPU için cuda:0 sonucunu aldık."
   ]
  },
  {
   "cell_type": "markdown",
   "id": "74071c63",
   "metadata": {},
   "source": [
    "## Tensörleri Tekrar CPU Üzerine Taşımak"
   ]
  },
  {
   "cell_type": "markdown",
   "id": "a62788db",
   "metadata": {},
   "source": [
    "Bir tensörü GPU üzerinde çalıştırırsak onu direkt olarak NumPy verisine dönüştüremeyiz.  Aşağıdaki komut donanım hatası verecektir."
   ]
  },
  {
   "cell_type": "code",
   "execution_count": 14,
   "id": "9eda2bfd",
   "metadata": {},
   "outputs": [
    {
     "ename": "TypeError",
     "evalue": "can't convert cuda:0 device type tensor to numpy. Use Tensor.cpu() to copy the tensor to host memory first.",
     "output_type": "error",
     "traceback": [
      "\u001b[0;31m---------------------------------------------------------------------------\u001b[0m",
      "\u001b[0;31mTypeError\u001b[0m                                 Traceback (most recent call last)",
      "\u001b[0;32m/tmp/ipykernel_5387/735472098.py\u001b[0m in \u001b[0;36m<module>\u001b[0;34m\u001b[0m\n\u001b[0;32m----> 1\u001b[0;31m \u001b[0mtensor_on_gpu\u001b[0m\u001b[0;34m.\u001b[0m\u001b[0mnumpy\u001b[0m\u001b[0;34m(\u001b[0m\u001b[0;34m)\u001b[0m\u001b[0;34m\u001b[0m\u001b[0;34m\u001b[0m\u001b[0m\n\u001b[0m",
      "\u001b[0;31mTypeError\u001b[0m: can't convert cuda:0 device type tensor to numpy. Use Tensor.cpu() to copy the tensor to host memory first."
     ]
    }
   ],
   "source": [
    "tensor_on_gpu.numpy()"
   ]
  },
  {
   "cell_type": "markdown",
   "id": "d71d9bd8",
   "metadata": {},
   "source": [
    "Bu sorun aşağıdaki gibi ilgili tensörü cpu üzerine ayarlanarak çözülür."
   ]
  },
  {
   "cell_type": "code",
   "execution_count": 18,
   "id": "18b11556",
   "metadata": {},
   "outputs": [
    {
     "data": {
      "text/plain": [
       "array([1, 2, 3])"
      ]
     },
     "execution_count": 18,
     "metadata": {},
     "output_type": "execute_result"
    }
   ],
   "source": [
    "tensor_back_on_cpu = tensor_on_gpu.cpu().numpy()\n",
    "tensor_back_on_cpu "
   ]
  },
  {
   "cell_type": "code",
   "execution_count": 20,
   "id": "7053d4fa",
   "metadata": {},
   "outputs": [
    {
     "data": {
      "text/plain": [
       "tensor([1, 2, 3], device='cuda:0')"
      ]
     },
     "execution_count": 20,
     "metadata": {},
     "output_type": "execute_result"
    }
   ],
   "source": [
    "tensor_on_gpu # Bu tensör üzerinde değişiklik olmadığına dikkat edilmelidir."
   ]
  },
  {
   "cell_type": "code",
   "execution_count": 21,
   "id": "bf8c3791",
   "metadata": {},
   "outputs": [
    {
     "data": {
      "text/plain": [
       "tensor([5, 2, 3], device='cuda:0')"
      ]
     },
     "execution_count": 21,
     "metadata": {},
     "output_type": "execute_result"
    }
   ],
   "source": [
    "tensor_on_gpu[0] = 5\n",
    "tensor_on_gpu"
   ]
  },
  {
   "cell_type": "markdown",
   "id": "6604dab6",
   "metadata": {},
   "source": [
    "tensor_on_gpu üzerindeki değişiklik cpu üzerindeki tensörü etkilemediği aşağıdaki gibi görülür."
   ]
  },
  {
   "cell_type": "code",
   "execution_count": 23,
   "id": "df1ee3b9",
   "metadata": {},
   "outputs": [
    {
     "data": {
      "text/plain": [
       "array([1, 2, 3])"
      ]
     },
     "execution_count": 23,
     "metadata": {},
     "output_type": "execute_result"
    }
   ],
   "source": [
    "tensor_back_on_cpu"
   ]
  },
  {
   "cell_type": "markdown",
   "id": "b7dc3b64",
   "metadata": {},
   "source": [
    "## Alıştırmalar ve Ek Müfredat"
   ]
  },
  {
   "cell_type": "markdown",
   "id": "ead06df3",
   "metadata": {},
   "source": [
    "https://www.learnpytorch.io/00_pytorch_fundamentals/#exercises adresindeki alıştırma __exercises__ klasörü içerisinde __00_pytorch_fundementals_exercise__ dosyası içerisinde çözülmüştür. Ayrıca bu adreste aşağıda da verilen ek kaynaklar verilmiştir. "
   ]
  },
  {
   "cell_type": "markdown",
   "id": "c3b52a89",
   "metadata": {},
   "source": [
    "- https://pytorch.org/tutorials/beginner/basics/intro.html\n",
    "- https://pytorch.org/tutorials/beginner/basics/quickstart_tutorial.html\n",
    "- https://pytorch.org/tutorials/beginner/basics/tensorqs_tutorial.html\n",
    "- https://www.youtube.com/watch?v=f5liqUk0ZTw "
   ]
  }
 ],
 "metadata": {
  "kernelspec": {
   "display_name": "Python 3 (ipykernel)",
   "language": "python",
   "name": "python3"
  },
  "language_info": {
   "codemirror_mode": {
    "name": "ipython",
    "version": 3
   },
   "file_extension": ".py",
   "mimetype": "text/x-python",
   "name": "python",
   "nbconvert_exporter": "python",
   "pygments_lexer": "ipython3",
   "version": "3.9.13"
  }
 },
 "nbformat": 4,
 "nbformat_minor": 5
}
